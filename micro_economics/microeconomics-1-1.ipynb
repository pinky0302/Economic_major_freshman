{
 "cells": [
  {
   "cell_type": "markdown",
   "metadata": {},
   "source": [
    "#  미시경제학 기초\n",
    "\n",
    "## introduction - 경제학을 배우는 이유\n",
    "우리가 오늘부터 하게 될 것은 시뮬레이션과 함께 경제학을 배워보는 길입니다. 경제학은 실증을 좋아합니다. 사회 과학으로의 경험과학의 형태로 과학적 방법을 사용한다. \n",
    "\n",
    "경험과학의로의 경제학은 인간 사이의 관계에 대한 연구로 가치관의 문제가 있어 더욱히 균형잡힌 공부와 시각이 필요하다. \n",
    "\n",
    "사회과학의 가치관 문제에서 자유롭지 못함에 대한 논쟁은 1970년 이후로 오랜기간 동안 논의되어오고 있다. \n",
    "\n",
    "인간의 일반성에 대해 논하는 것은 때대로 불가능 하기 때문에 보편성과 특수성 그리고 사회집단에 대한 다양한 형태의 논의가 이어진다. \n",
    "\n",
    "사회란 인간들로 이루어진 사회를 말하며 인간 개개인과 집단 혹은 조직 혹은 이에 따라 전개되는 사회현상과 가치를 연구하는 학문이다. \n",
    "\n",
    "처음부터 사회과학이 정립되진 않았으며 근대의 시작과 함께 자본주의발전과 함꼐 초점과 관점이 변화하며 성장했다. \n",
    "\n",
    "독일에서 (Geisteswissenschaften)정신과학이라는 용어로 \n",
    "학술적인 분리로는 John Strart Mill의 도덕과학에 대한 대응으로의 Wilhelm Dilthey가 정신과학 입문에서 체계화한 것으로 인간사회는 자연과 달리 정신적인 것이라는 사고에서 기반하였었다. \n",
    "\n",
    "두번쨰 등장은 인문과학 으로 (Kulturwissenschaften)으로 정신의 운동 자체보다는 정신운동의 산물에 더 중심을 두는 것으로 변모하였고, \n",
    "\n",
    "두 용어 모두 자연과 인간을대립시켜 사회과학이 자연과학과 다른학문 분야임을 강조하였다. \n",
    "이후 프랑스에서는 sciences humaines라는  말이 쓰였고, 인간도 역시 자연의 일부라는 관점이 들어있어 독일식 사고와 는 다른점을 보였다. \n",
    "\n",
    "독일식 관념론과 프랑스식 유물론의 관점에 기반한 것임으로 이해해도 괜찮을 것 같다. \n",
    "\n",
    "social science라는 용어가 처음등장하는 것은 17~18세기 영국에서였다. 영국의 일간사회연구가 사화과학으로 성립한 이후에,거꾸로 유럽으로 전파되었다. \n",
    "\n",
    "근대사회의 발전에 있어 영국을 빼고 말할 수 없듯이 (economic history 과목 참조)정치학과 경제학에서 가장 빠른 발전을 가진다. \n",
    "\n",
    "프랑스의 경우 브르주아와 프롤레타리아 계급간의 갈등으로 결부된 사회학이 중심을 잡았고, 독일같은 경우는 국가와 사회간의 대립으로 인해 법학과 역사학이 먼저 발전하였다. \n",
    "\n",
    "미국에서도 이런 유럽의 학풍이 전파되어 사회과학이 수립되었고, 미국 사회과학계는 독자적으로발전하면서 과학적 기법을 중심으로 하여 여러분과 학문들로 분화해 나아갔다. \n",
    "\n",
    "한국 같은 경우 6 25 전쟁 이후 1950년대 후반부터 미국을 중심으로 학술교루와 함께, 유학이활발해져 미국의 행태주의적 조류와 함께 , 기존의 전통적 사고의 법학과 정치학 중심의 한국의 사회과학의 지형을 사회조사방법론에 입각하여 교육 및 사회학의 발전을 가져왔다. 이때 미국의 정치문화와 자유민주주의 사상의 수업들이 이루어졌다. \n",
    "\n",
    "결국은 사회를 대상으로 연구하는 것이지만 역사에 따라 그리고 사람의 가치관에 따라 변화하기도 하였다. \n",
    "\n",
    "그럼에도 우리가 왜 그중 경제학에 집중하느냐에 대한 다양한 의견들이 있겠지만 이는 논리 실증주의(**Vienna Circle**)에 와서 '통일과학(Einheitswissenschaft)'으로 이어져 오며 인간 인식의 기초라고 여기면서 우리는 전개한다. \n",
    "\n",
    "이때 경제이론이 과학과 수학을 자기언어와 논리로 수용하게 된 것은 Debreu가 공리적 일반균형이론을 개발하였을 때부터였다. \n",
    "이후 현대 주류 경제학에 있어서 블랙숄즈의 파생금융상품가치평가기법이 노벨 경지학상을 수여하면서 하나의 이론적 지표가 되며 2008년 세계적 금융위기는 실제적 지표로 작용하여 우리는 21세기의 많은 경제현상들에 있어서 과거의 방식으로는 설명하기 어렵다는 것을 인지하기 시작하였다. \n",
    "\n",
    "학제간 연구가 많으며 많은 분야가 골고루 섞이는 지금 이 시대에 불구하고 우리는 고전 경제학자들의 이론들을 배워나간다. \n",
    "\n",
    "미시경제학은 아래와 같은 내용을 기본적으로 17세기부터 정립되기 시작한 \n",
    "\n",
    "```\n",
    "미시경제학은 제한된 자원을  (**희소성**) 과 함께 \\\n",
    "인간의 욕망이 어떤 선택을 하는가에 대한 과거 학자들의 이론과 전개를 살펴보며\\\n",
    " 경제학적 사고법에 조금더 근사하는 마음이다. \n",
    "\n",
    "```"
   ]
  },
  {
   "attachments": {},
   "cell_type": "markdown",
   "metadata": {},
   "source": [
    "## 주피터 노트북 준비\n",
    "\n",
    "현재 python을 처음 사용하는 학생이나 파이썬의 환경 설정에 힘든 상황이라면 venv를 통해서 가상환경을 통해서 jupyter를 깔고 그 안에 패키지들을 설치하고 그 가상환경을 키고 끌줄 알아야한다. \n",
    "이와 관련된 자료는 따로 기술하지 않고 링크 등으로 대체한다.\n",
    "\n",
    "- 컴퓨터에 python설치 \n",
    "- python pip를 통해 venv를 설치 \n",
    "- venv로 설치된 파일 위치는 환경 위치임으로 건들지 않음 \n",
    "- 필요한 패캐지들에 대해서는 src/reqirement.txt 등을 찾아서 설치 바람. \n",
    "- venv 가상환경을 공부할 폴더에 두고 activate의 위치를 찾아 source 등으로 실행 \n",
    "- 가상환경 접근 확인 및 파이썬 패키지 설치 \n",
    "- jupyter notebook 실행 \n",
    "- 주피터 노트북으로 아래 코드 돌려 값이 나오는지 확인 \n",
    "- 안될시 구글링을 통해 해결하기 \n",
    "\n",
    "[참고링크- 파이썬 가상환경 종류 및 사용법](https://homubee.tistory.com/38)\n"
   ]
  },
  {
   "cell_type": "code",
   "execution_count": 1,
   "metadata": {},
   "outputs": [
    {
     "name": "stdout",
     "output_type": "stream",
     "text": [
      "30\n"
     ]
    }
   ],
   "source": [
    "price = 6 \n",
    "quantity = 5\n",
    "revenue = price * quantity\n",
    "print(revenue)"
   ]
  },
  {
   "attachments": {},
   "cell_type": "markdown",
   "metadata": {},
   "source": [
    "여기서 equal sign (=) 는 assignment operator로 쓰인다. 산술 연산과 행렬 연산에 있어서는 우리는 numpy패키지, math 등을 통해 접근할 수 있고 계산 가능하다.   \n",
    "여기서 sympy를 사용하는경우에는 algebra와 calculus를 할 수 있는데 현재는 행렬 연산 자체에 관심이 있는 상황이 아니고 이론적인 식을 전개할 것이기 때문에 sympy가 적절하다고 할 수 있다.   \n",
    "우리는 패키지를 깔기 위해서 "
   ]
  },
  {
   "cell_type": "code",
   "execution_count": 2,
   "metadata": {},
   "outputs": [
    {
     "name": "stdout",
     "output_type": "stream",
     "text": [
      "Collecting sympy\n",
      "  Downloading sympy-1.11.1-py3-none-any.whl (6.5 MB)\n",
      "\u001b[2K     \u001b[90m━━━━━━━━━━━━━━━━━━━━━━━━━━━━━━━━━━━━━━━━\u001b[0m \u001b[32m6.5/6.5 MB\u001b[0m \u001b[31m26.9 MB/s\u001b[0m eta \u001b[36m0:00:00\u001b[0m00:01\u001b[0m00:01\u001b[0m\n",
      "\u001b[?25hCollecting mpmath>=0.19\n",
      "  Downloading mpmath-1.2.1-py3-none-any.whl (532 kB)\n",
      "\u001b[2K     \u001b[90m━━━━━━━━━━━━━━━━━━━━━━━━━━━━━━━━━━━━━━\u001b[0m \u001b[32m532.6/532.6 kB\u001b[0m \u001b[31m12.1 MB/s\u001b[0m eta \u001b[36m0:00:00\u001b[0m00:01\u001b[0m\n",
      "\u001b[?25hInstalling collected packages: mpmath, sympy\n",
      "Successfully installed mpmath-1.2.1 sympy-1.11.1\n"
     ]
    }
   ],
   "source": [
    "! pip3 install sympy"
   ]
  },
  {
   "cell_type": "code",
   "execution_count": 4,
   "metadata": {},
   "outputs": [],
   "source": [
    "from sympy import *"
   ]
  },
  {
   "attachments": {},
   "cell_type": "markdown",
   "metadata": {},
   "source": [
    "- symbols() 변수를 정의함\n",
    "- diff() 미분을 위해서 씀\n",
    "- Eq() 식 만들어주기용 \n",
    "- solve() 식을 풀어주기용 \n",
    "- subs() substitude values를 equation에 넣어 계산"
   ]
  },
  {
   "attachments": {},
   "cell_type": "markdown",
   "metadata": {},
   "source": [
    "$$ P = 100 -2Q$$\n",
    "우리는 여기서 revenue maximizing quantitiy 알고 싶다고 하자."
   ]
  },
  {
   "cell_type": "code",
   "execution_count": 6,
   "metadata": {},
   "outputs": [
    {
     "data": {
      "text/latex": [
       "$\\displaystyle 100 - 2 Q$"
      ],
      "text/plain": [
       "100 - 2*Q"
      ]
     },
     "execution_count": 6,
     "metadata": {},
     "output_type": "execute_result"
    }
   ],
   "source": [
    "Q = symbols('Q')\n",
    "P = 100 - 2*Q\n",
    "P"
   ]
  },
  {
   "attachments": {},
   "cell_type": "markdown",
   "metadata": {},
   "source": [
    "여기서 우리는 total revenue를 구해 보자 "
   ]
  },
  {
   "cell_type": "code",
   "execution_count": 7,
   "metadata": {},
   "outputs": [
    {
     "data": {
      "text/latex": [
       "$\\displaystyle Q \\left(100 - 2 Q\\right)$"
      ],
      "text/plain": [
       "Q*(100 - 2*Q)"
      ]
     },
     "execution_count": 7,
     "metadata": {},
     "output_type": "execute_result"
    }
   ],
   "source": [
    "TR = P*Q\n",
    "TR"
   ]
  },
  {
   "attachments": {},
   "cell_type": "markdown",
   "metadata": {},
   "source": [
    "우리는 이 식에서 first derivative인 slope 나 or marginal revenue(MR) 를  diff 를 이용하여 diff(y(x),x)의 형태로 구할 수 있을 것이다. \n",
    "\n",
    "우리는 이를  take the first derivative of y(x) with respect to x 라고 한다. "
   ]
  },
  {
   "cell_type": "code",
   "execution_count": 8,
   "metadata": {},
   "outputs": [
    {
     "data": {
      "text/latex": [
       "$\\displaystyle 100 - 4 Q$"
      ],
      "text/plain": [
       "100 - 4*Q"
      ]
     },
     "execution_count": 8,
     "metadata": {},
     "output_type": "execute_result"
    }
   ],
   "source": [
    "diff(TR,Q)"
   ]
  },
  {
   "attachments": {},
   "cell_type": "markdown",
   "metadata": {},
   "source": [
    "diff를 가지고 solve function에 넣어서 사용할 수 있다. solve를 이용하면 이를 solve를 위해서  value를 0으로 두고 식을 풀기 때문에 위의 문제를 구할 수 있다."
   ]
  },
  {
   "cell_type": "code",
   "execution_count": 9,
   "metadata": {},
   "outputs": [
    {
     "data": {
      "text/plain": [
       "[25]"
      ]
     },
     "execution_count": 9,
     "metadata": {},
     "output_type": "execute_result"
    }
   ],
   "source": [
    "solve(diff(TR,Q))"
   ]
  },
  {
   "attachments": {},
   "cell_type": "markdown",
   "metadata": {},
   "source": [
    "따라서 우리에게 있어 revenue maximizing quantity는 25라고 알 수 있을 것이다. \n",
    "\n",
    "sympy에서 이론적으로 쓴 식에 있어서 그래프를 그리는 것은 제한적이기는 하지만 단변수에 있는 경제학 1학년 내용으로는 가능한 부분이 많아 sympy의 plot 만으로도 충분하다.\n",
    "\n",
    "sympy의 plot()에 있어 우리는 minimum과 maximum을 설정해야하며 x-y axes, xlim ylim과 labels를 xlabel 과 ylabel를 가지고 그려줄 수 있다 .\n",
    "\n",
    "https://docs.sympy.org/latest/modules/plotting.html\n",
    "공식 문서를 참고하여 좀더 자기만의 특별한 것을 만들어보아라.\n",
    "```{python}\n",
    "class sympy.plotting.plot.Plot(*args, title=None, xlabel=None, ylabel=None, zlabel=None, aspect_ratio='auto', xlim=None, ylim=None, axis_center='auto', axis=True, xscale='linear', yscale='linear', legend=False, autoscale=True, margin=0, annotations=None, markers=None, rectangles=None, fill=None, backend='default', size=None, **kwargs)\n",
    "```"
   ]
  },
  {
   "cell_type": "code",
   "execution_count": 10,
   "metadata": {},
   "outputs": [
    {
     "data": {
      "image/png": "[encoded data removed]",
      "text/plain": [
       "<Figure size 640x480 with 1 Axes>"
      ]
     },
     "metadata": {},
     "output_type": "display_data"
    },
    {
     "data": {
      "text/plain": [
       "<sympy.plotting.plot.Plot at 0x105aed910>"
      ]
     },
     "execution_count": 10,
     "metadata": {},
     "output_type": "execute_result"
    }
   ],
   "source": [
    "Q = symbols('Q')\n",
    "TR = (100 - 2*Q)*Q\n",
    "plot(TR, (Q,0,50), ylim = (0,1500), xlim = (0,55), title = 'Revenue', xlabel = 'Quantity', ylabel = 'Revenue')"
   ]
  },
  {
   "attachments": {},
   "cell_type": "markdown",
   "metadata": {},
   "source": [
    "위 와 같이 식과 그래프를 작성하는 아주 기초적인 방법에 대해서 배웠다. \n",
    "미시경제학의 후반부에 나오긴하지만 개념보다 식으로만 이해가능한 average total cost에 대해서 최소화하는 방향에 대해서 아래와 함께 풀어보자 \n",
    "Total cost에 대한 부분이다. \n",
    "\n",
    "$$ TC = 5600 + 27Q - 6Q^2 + 0.5Q^3$$\n",
    "\n"
   ]
  },
  {
   "cell_type": "code",
   "execution_count": 11,
   "metadata": {},
   "outputs": [
    {
     "data": {
      "text/plain": [
       "[20.0000000000000, -7.0 - 15.1986841535707*I, -7.0 + 15.1986841535707*I]"
      ]
     },
     "execution_count": 11,
     "metadata": {},
     "output_type": "execute_result"
    }
   ],
   "source": [
    "Q = symbols('Q')\n",
    "TC = 5600 + 27*Q - 6*Q**2 + 0.5*Q**3\n",
    "ATC = TC/Q\n",
    "solve(diff(ATC,Q))"
   ]
  },
  {
   "attachments": {},
   "cell_type": "markdown",
   "metadata": {},
   "source": [
    "positive 의 부호 인 경우를 생각해야하므로 "
   ]
  },
  {
   "cell_type": "code",
   "execution_count": 12,
   "metadata": {},
   "outputs": [
    {
     "data": {
      "text/plain": [
       "[20.0000000000000]"
      ]
     },
     "execution_count": 12,
     "metadata": {},
     "output_type": "execute_result"
    }
   ],
   "source": [
    "Q = symbols('Q', positive =True)\n",
    "TC = 5600 + 27*Q - 6*Q**2 + 0.5*Q**3\n",
    "ATC = TC/Q\n",
    "solve(diff(ATC,Q))"
   ]
  },
  {
   "attachments": {},
   "cell_type": "markdown",
   "metadata": {},
   "source": [
    "혹은 "
   ]
  },
  {
   "cell_type": "code",
   "execution_count": 13,
   "metadata": {},
   "outputs": [
    {
     "data": {
      "text/plain": [
       "[20.0000000000000]"
      ]
     },
     "execution_count": 13,
     "metadata": {},
     "output_type": "execute_result"
    }
   ],
   "source": [
    "Q = symbols('Q', nonnegative=True)\n",
    "TC = 5600 + 27*Q - 6*Q**2 + 0.5*Q**3\n",
    "ATC = TC/Q\n",
    "solve(diff(ATC,Q))"
   ]
  },
  {
   "cell_type": "code",
   "execution_count": 19,
   "metadata": {},
   "outputs": [
    {
     "data": {
      "image/png": "[encoded data removed]",
      "text/plain": [
       "<Figure size 640x480 with 1 Axes>"
      ]
     },
     "metadata": {},
     "output_type": "display_data"
    },
    {
     "data": {
      "text/plain": [
       "<sympy.plotting.plot.Plot at 0x12e14a970>"
      ]
     },
     "execution_count": 19,
     "metadata": {},
     "output_type": "execute_result"
    }
   ],
   "source": [
    "Q = symbols('Q', nonnegative=True)\n",
    "TC = 5600 + 27*Q - 6*Q**2 + 0.5*Q**3\n",
    "ATC = TC/Q\n",
    "plot(ATC, (Q,0,200), ylim = (0,10000), xlim = (0,200), title = 'cost', xlabel = 'Quantity', ylabel = 'cost')"
   ]
  },
  {
   "attachments": {},
   "cell_type": "markdown",
   "metadata": {},
   "source": [
    "맛보기 의 형태로 우리는 이를 구해 볼 수 있었다. "
   ]
  },
  {
   "attachments": {},
   "cell_type": "markdown",
   "metadata": {},
   "source": [
    "우리가 미시 경제학에서 자주 다룰 수 있는주제 는 아래와 같고 sympy와 함께 풀어 낼 수있는 문제들은 많다. 미시경제학 입문인 1 학년 과목에서는 전미분 까지 다루지는 않으나 몇가지 우리가 상상으로 전개해야하는 것들을 sympy등을 사용하면 직접 그려볼 수 있을 것이다. \n",
    "\n",
    "1. Utility maximization (indifference curve and budget constraint)\n",
    "2. General equilibrium (two goods and two consumers)\n",
    "3. Cost minimization (isoquant and isocost)\n",
    "4. Competitive market\n",
    "5. Monopoly\n",
    "6. Price discrimination\n",
    "7. The Cournot model\n",
    "8. The Stackelberg model\n",
    "9. The Bertrand model"
   ]
  },
  {
   "cell_type": "code",
   "execution_count": null,
   "metadata": {},
   "outputs": [],
   "source": []
  }
 ],
 "metadata": {
  "kernelspec": {
   "display_name": "economic_lec",
   "language": "python",
   "name": "python3"
  },
  "language_info": {
   "codemirror_mode": {
    "name": "ipython",
    "version": 3
   },
   "file_extension": ".py",
   "mimetype": "text/x-python",
   "name": "python",
   "nbconvert_exporter": "python",
   "pygments_lexer": "ipython3",
   "version": "3.9.6"
  },
  "vscode": {
   "interpreter": {
    "hash": "37a071ac3224bc6b311065e4d5cc471d6d810eef55e030a68a5df133c8d4415a"
   }
  }
 },
 "nbformat": 4,
 "nbformat_minor": 2
}
