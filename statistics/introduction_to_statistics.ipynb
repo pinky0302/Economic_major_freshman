{
 "cells": [
  {
   "attachments": {},
   "cell_type": "markdown",
   "metadata": {},
   "source": [
    "# 기초적인 통계를 앞서\n",
    "----\n",
    "\n",
    "* <b>순열</b>: 서로 다른 𝑛개에서 𝑟개를 중복 없이 뽑아 특정한 순서로 나열하는 것을 의미한다.\n",
    "* <b>조합</b>: 서로 다른 𝑛개에서 𝑟개를 중복 없이 순서를 고려하지 않고 뽑는 것을 의미한다.\n",
    "* <b>중복 순열</b>: 서로 다른 𝑛개에서 중복을 포함해 𝑟개를 뽑아 특정한 순서로 나열하는 것을 의미한다.\n",
    "* <b>중복 조합</b>: 서로 다른 𝑛개에서 중복을 포함해 순서를 고려하지 않고 𝑟개를 뽑는 것을 의미한다."
   ]
  },
  {
   "cell_type": "code",
   "execution_count": 5,
   "metadata": {},
   "outputs": [
    {
     "name": "stdout",
     "output_type": "stream",
     "text": [
      "[('A', 'B'), ('A', 'C'), ('B', 'A'), ('B', 'C'), ('C', 'A'), ('C', 'B')]\n",
      "6\n"
     ]
    }
   ],
   "source": [
    "from itertools import permutations\n",
    "\n",
    "arr = ['A','B','C']\n",
    "\n",
    "result = list(permutations(arr,2))\n",
    "# A,B,C 중에서 2개를 뽑는 모든 조합 계산 \n",
    "print(result)\n",
    "print(result.__len__())"
   ]
  },
  {
   "attachments": {},
   "cell_type": "markdown",
   "metadata": {},
   "source": [
    "조합을 골라보자. 아래와 같이 코드를 치다보면 함수에 대한 설명과 예제가 뜰것이다. 나중에 우리는 argparse라는 것을 이용해서, 우리가 만든 함수의 설명도 달아줄 것이다. \n",
    "\n",
    "![png](../src/combination_func.png)"
   ]
  },
  {
   "cell_type": "code",
   "execution_count": 7,
   "metadata": {},
   "outputs": [
    {
     "name": "stdout",
     "output_type": "stream",
     "text": [
      "[('A', 'B'), ('A', 'C'), ('B', 'C')]\n",
      "3\n"
     ]
    }
   ],
   "source": [
    "from itertools import combinations\n",
    "\n",
    "arr = ['A','B','C']\n",
    "\n",
    "result = list(combinations(arr,2))\n",
    "print(result)\n",
    "print(result.__len__())"
   ]
  },
  {
   "cell_type": "code",
   "execution_count": 8,
   "metadata": {},
   "outputs": [
    {
     "name": "stdout",
     "output_type": "stream",
     "text": [
      "[('A', 'A'), ('A', 'B'), ('A', 'C'), ('B', 'A'), ('B', 'B'), ('B', 'C'), ('C', 'A'), ('C', 'B'), ('C', 'C')]\n",
      "9\n"
     ]
    }
   ],
   "source": [
    "# 중복 순열 계산\n",
    "\n",
    "from itertools import product\n",
    "\n",
    "arr = ['A', 'B', 'C']\n",
    "result = list(product(arr, repeat=2))\n",
    "print(result)\n",
    "print(result.__len__())"
   ]
  },
  {
   "cell_type": "code",
   "execution_count": 9,
   "metadata": {},
   "outputs": [
    {
     "name": "stdout",
     "output_type": "stream",
     "text": [
      "[('A', 'A'), ('A', 'B'), ('A', 'C'), ('B', 'B'), ('B', 'C'), ('C', 'C')]\n",
      "6\n"
     ]
    }
   ],
   "source": [
    "# 중복 조합 계산 하기 \n",
    "\n",
    "from itertools import combinations_with_replacement\n",
    "\n",
    "arr = ['A', 'B', 'C']\n",
    "result = list(combinations_with_replacement(arr, 2))\n",
    "print(result)\n",
    "print(result.__len__())"
   ]
  },
  {
   "attachments": {},
   "cell_type": "markdown",
   "metadata": {},
   "source": [
    "#### <b>이항 분포 시뮬레이션</b>\n",
    "\n",
    "* 독립된 사건을 𝑁번 반복 시행했을 때, 특정 사건이 𝑥회 발생할 확률을 계산한다. \n",
    "  * 성공 확률이 𝜇인 베르누이 시행을 𝑁번 반복한다.\n",
    "\n",
    "아래와 같이 시뮬레이션을 돌릴 수도 있고 scipy에서 정의된 함수를 쓸 수 있다. "
   ]
  },
  {
   "cell_type": "code",
   "execution_count": 1,
   "metadata": {},
   "outputs": [],
   "source": [
    "from math import factorial\n",
    "import numpy as np\n",
    "import matplotlib.pyplot as plt\n",
    "%matplotlib inline\n"
   ]
  },
  {
   "cell_type": "code",
   "execution_count": 2,
   "metadata": {},
   "outputs": [
    {
     "data": {
      "image/png": "[encoded data removed]",
      "text/plain": [
       "<Figure size 640x480 with 1 Axes>"
      ]
     },
     "metadata": {},
     "output_type": "display_data"
    }
   ],
   "source": [
    "# PDF (Probability Density Function)\n",
    "def pdf(x, n, mu):\n",
    "    combinations = factorial(n) / (factorial(x) * factorial(n - x))\n",
    "    return combinations * (mu ** x) * ((1 - mu) ** (n - x))\n",
    "\n",
    "\n",
    "n = 10\n",
    "mu = 0.1\n",
    "X = [x for x in range(n + 1)]\n",
    "prob = [pdf(x, n, mu) for x in X]\n",
    "\n",
    "plt.plot(X, prob)\n",
    "plt.show()"
   ]
  },
  {
   "attachments": {},
   "cell_type": "markdown",
   "metadata": {},
   "source": [
    "* 가구 공장에서 가구를 만들 때, <b>불량률이 10%</b>라고 한다.\n",
    "* 이 공장에서 만든 가구 10개를 확인했을 때, <b>불량품이 2개 이하로 나올 확률</b>을 구하여라."
   ]
  },
  {
   "cell_type": "code",
   "execution_count": 3,
   "metadata": {},
   "outputs": [
    {
     "name": "stdout",
     "output_type": "stream",
     "text": [
      "f(0) = 34.87%\n",
      "f(1) = 38.74%\n",
      "f(2) = 19.37%\n",
      "f(3) = 5.74%\n",
      "f(4) = 1.12%\n",
      "f(5) = 0.15%\n",
      "f(6) = 0.01%\n",
      "f(7) = 0.00%\n",
      "f(8) = 0.00%\n",
      "f(9) = 0.00%\n",
      "f(10) = 0.00%\n"
     ]
    }
   ],
   "source": [
    "n = 10\n",
    "mu = 0.1\n",
    "X = [x for x in range(n + 1)]\n",
    "\n",
    "for x in X:\n",
    "    print(f\"f({x}) = {pdf(x, n, mu) * 100.:.2f}%\")\n"
   ]
  },
  {
   "cell_type": "code",
   "execution_count": 4,
   "metadata": {},
   "outputs": [
    {
     "name": "stdout",
     "output_type": "stream",
     "text": [
      "가구 10개를 확인했을 때, 불량품이 0개일 확률 = 34.87%\n",
      "가구 10개를 확인했을 때, 불량품이 1개일 확률 = 38.74%\n",
      "가구 10개를 확인했을 때, 불량품이 2개일 확률 = 19.37%\n",
      "가구 10개를 확인했을 때, 불량품이 2개이하일 확률 = 92.98%\n"
     ]
    }
   ],
   "source": [
    "x0 = pdf(0, 10, 0.1)\n",
    "x1 = pdf(1, 10, 0.1)\n",
    "x2 = pdf(2, 10, 0.1)\n",
    "\n",
    "print(f\"가구 10개를 확인했을 때, 불량품이 0개일 확률 = {x0 * 100.:.2f}%\")\n",
    "print(f\"가구 10개를 확인했을 때, 불량품이 1개일 확률 = {x1 * 100.:.2f}%\")\n",
    "print(f\"가구 10개를 확인했을 때, 불량품이 2개일 확률 = {x2 * 100.:.2f}%\")\n",
    "print(f\"가구 10개를 확인했을 때, 불량품이 2개이하일 확률 = {(x0 + x1 + x2) * 100.:.2f}%\")"
   ]
  },
  {
   "attachments": {},
   "cell_type": "markdown",
   "metadata": {},
   "source": [
    "## 다들 이해하고 있는 정도의 평균 분산 그리고 표준편차\n",
    "---\n",
    "\n",
    "평균과 분산 표준편차를 구해보자"
   ]
  },
  {
   "cell_type": "code",
   "execution_count": 5,
   "metadata": {},
   "outputs": [
    {
     "name": "stdout",
     "output_type": "stream",
     "text": [
      "평균: 74.80\n",
      "분산: 192.56\n",
      "표준 편차: 13.88\n"
     ]
    }
   ],
   "source": [
    "import math\n",
    "\n",
    "arr = [56, 93, 88, 72, 65]\n",
    "\n",
    "# 평균(mean) 계산\n",
    "mean = 0\n",
    "for x in arr:\n",
    "    mean += x / len(arr)\n",
    "\n",
    "# 분산(variance) 계산\n",
    "variance = 0\n",
    "for x in arr:\n",
    "    variance += ((x - mean) ** 2) / len(arr)\n",
    "\n",
    "# 표준 편차(standard deviation) 계산\n",
    "std = math.sqrt(variance)\n",
    "\n",
    "print(f\"평균: {mean:.2f}\")\n",
    "print(f\"분산: {variance:.2f}\")\n",
    "print(f\"표준 편차: {std:.2f}\")"
   ]
  },
  {
   "cell_type": "code",
   "execution_count": null,
   "metadata": {},
   "outputs": [],
   "source": []
  }
 ],
 "metadata": {
  "kernelspec": {
   "display_name": "economic_lec",
   "language": "python",
   "name": "python3"
  },
  "language_info": {
   "codemirror_mode": {
    "name": "ipython",
    "version": 3
   },
   "file_extension": ".py",
   "mimetype": "text/x-python",
   "name": "python",
   "nbconvert_exporter": "python",
   "pygments_lexer": "ipython3",
   "version": "3.9.6"
  },
  "orig_nbformat": 4
 },
 "nbformat": 4,
 "nbformat_minor": 2
}
