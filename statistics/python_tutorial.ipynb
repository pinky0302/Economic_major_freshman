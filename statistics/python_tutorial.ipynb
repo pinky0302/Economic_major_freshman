{
 "cells": [
  {
   "attachments": {},
   "cell_type": "markdown",
   "metadata": {},
   "source": [
    "# 파이썬 기초 \n",
    "---\n",
    "안녕하세요 오늘은 파이썬 기초 , 를 가장한, 알고리즘 기초를 알아볼 거에요 ! \n",
    "라면 끓이기 를 기준으로 많이 프로그래밍을 배워보는 경우가 많죠 ! \n",
    "\n",
    "여기서  다룰 내용은 파이썬 기초로 많은 자료들을 모으나 아주 기초적인것은 위키독스의 \"점프투 파이썬\"을 확인하고 진행한 후에 현재 파일을 봐주시기 바랍니다. \n",
    "\n",
    "\n",
    "오늘의 상상나래는 \n",
    "1. 정수기 따라하기 \n",
    "2. 정문 따라하기 \n",
    "3. 뭐 먹지 ? \n",
    "4. "
   ]
  },
  {
   "cell_type": "code",
   "execution_count": null,
   "metadata": {},
   "outputs": [],
   "source": []
  },
  {
   "cell_type": "code",
   "execution_count": null,
   "metadata": {},
   "outputs": [],
   "source": []
  },
  {
   "attachments": {},
   "cell_type": "markdown",
   "metadata": {},
   "source": [
    "코딩은 그냥 논리야  ! \n",
    "\n",
    "우리는 언어를 배울 것은 아니거든 ! \n",
    "만약 언어 자체에 관심이 있거든랑 컴퓨터 과학 이라는 영역에서 \n"
   ]
  },
  {
   "cell_type": "code",
   "execution_count": null,
   "metadata": {},
   "outputs": [],
   "source": []
  },
  {
   "attachments": {},
   "cell_type": "markdown",
   "metadata": {},
   "source": [
    "방금 위에 까지 한 것은 코딩! 혹은 컴퓨터에게 이해시키기 위한 기본적인 이산 논리 방법으로 우리의 말을 변환하는 과정이야 ! \n",
    "여기에 데이터 타입들이 있어 스스로 한번 정리해보자 ! 어떤 데이터 타입이 어떤 속성을 가지고 있고 이런 속성이 지금 내가 원하는 데이터의 특성과 맞는지 미래에 이데이터가 어떻게 변화 될지 ! \n",
    "\n",
    "https://docs.python.org/3/library/stdtypes.html\n"
   ]
  },
  {
   "attachments": {},
   "cell_type": "markdown",
   "metadata": {},
   "source": [
    "# 남들이 만들어 둔 것과 논리 전개 \n",
    "if, elif... 등등의 단계들이 있어 . \n",
    "\n",
    "\n",
    "파이썬을 깔면 누군가 만들어 둔 것들을 functions라고 부르고 이를 가지고 우리가 모두 코드를 작성하지 않아 도 된다는 것을 알 수 있어 !\n",
    "https://docs.python.org/3/library/functions.html"
   ]
  },
  {
   "attachments": {},
   "cell_type": "markdown",
   "metadata": {},
   "source": [
    "## Quiz 1. 정수기 따라하기 \n"
   ]
  },
  {
   "cell_type": "code",
   "execution_count": null,
   "metadata": {},
   "outputs": [],
   "source": []
  },
  {
   "attachments": {},
   "cell_type": "markdown",
   "metadata": {},
   "source": [
    "## Quiz 2. 정문 따라하기 \n",
    "정문이 열리고 닫히고 , "
   ]
  },
  {
   "cell_type": "code",
   "execution_count": 1,
   "metadata": {},
   "outputs": [],
   "source": [
    "import pandas as pd \n"
   ]
  },
  {
   "attachments": {},
   "cell_type": "markdown",
   "metadata": {},
   "source": [
    "대부분 클래스 부터 어려워 하길래 이파트를 준비했습니다. \n",
    "\n",
    "oop programming이 주를 이룬다. \n"
   ]
  },
  {
   "cell_type": "code",
   "execution_count": 1,
   "metadata": {},
   "outputs": [
    {
     "data": {
      "text/plain": [
       "int"
      ]
     },
     "execution_count": 1,
     "metadata": {},
     "output_type": "execute_result"
    }
   ],
   "source": [
    "x = 10 \n",
    "type(x)"
   ]
  },
  {
   "cell_type": "code",
   "execution_count": 3,
   "metadata": {},
   "outputs": [
    {
     "data": {
      "text/plain": [
       "float"
      ]
     },
     "execution_count": 3,
     "metadata": {},
     "output_type": "execute_result"
    }
   ],
   "source": [
    "x = 10.123\n",
    "type(x)"
   ]
  },
  {
   "cell_type": "code",
   "execution_count": 4,
   "metadata": {},
   "outputs": [
    {
     "data": {
      "text/plain": [
       "function"
      ]
     },
     "execution_count": 4,
     "metadata": {},
     "output_type": "execute_result"
    }
   ],
   "source": [
    "def f(x):\n",
    "    return x + 1\n",
    "type(f)"
   ]
  },
  {
   "cell_type": "code",
   "execution_count": 5,
   "metadata": {},
   "outputs": [
    {
     "data": {
      "text/plain": [
       "module"
      ]
     },
     "execution_count": 5,
     "metadata": {},
     "output_type": "execute_result"
    }
   ],
   "source": [
    "import math \n",
    "type(math)"
   ]
  },
  {
   "cell_type": "code",
   "execution_count": 6,
   "metadata": {},
   "outputs": [
    {
     "name": "stdout",
     "output_type": "stream",
     "text": [
      "6\n"
     ]
    }
   ],
   "source": [
    "x = [3,6,9]\n",
    "y = [45, \"cart\"]\n",
    "print(x[1])"
   ]
  },
  {
   "cell_type": "code",
   "execution_count": 8,
   "metadata": {},
   "outputs": [
    {
     "name": "stdout",
     "output_type": "stream",
     "text": [
      "cart\n"
     ]
    }
   ],
   "source": [
    "x[1] = 99\n",
    "x.append(43)\n",
    "last = y.pop()\n",
    "print(last)"
   ]
  },
  {
   "attachments": {},
   "cell_type": "markdown",
   "metadata": {},
   "source": [
    "class 의 이해  \n",
    "클래스라는 개념의 중요성은 크나 생각보다 많이 다루진 않는다. \n",
    "\n",
    "아래와 같이 따라 치면서 이해해보자 \n"
   ]
  },
  {
   "cell_type": "code",
   "execution_count": 9,
   "metadata": {},
   "outputs": [],
   "source": [
    "class Robot:\n",
    "    pass"
   ]
  },
  {
   "cell_type": "code",
   "execution_count": 10,
   "metadata": {},
   "outputs": [
    {
     "name": "stdout",
     "output_type": "stream",
     "text": [
      "True\n",
      "False\n"
     ]
    }
   ],
   "source": [
    "class Robot:\n",
    "    pass\n",
    "if __name__ == \"__main__\":\n",
    "    x = Robot()\n",
    "    y = Robot()\n",
    "    y2 = y\n",
    "    print( y == y2)\n",
    "    print(y == x)"
   ]
  },
  {
   "cell_type": "code",
   "execution_count": 11,
   "metadata": {},
   "outputs": [
    {
     "name": "stdout",
     "output_type": "stream",
     "text": [
      "Clark\n"
     ]
    }
   ],
   "source": [
    "class Robot:\n",
    "    pass\n",
    "x = Robot()\n",
    "y = Robot()\n",
    "x.name = \"Clark\"\n",
    "x.build_year = '2023'\n",
    "y.name = \"voidmain443\"\n",
    "y.build_year = '2023'\n",
    "print(x.name)"
   ]
  },
  {
   "cell_type": "code",
   "execution_count": 12,
   "metadata": {},
   "outputs": [
    {
     "name": "stdout",
     "output_type": "stream",
     "text": [
      "2023\n"
     ]
    }
   ],
   "source": [
    "print(y.build_year)"
   ]
  },
  {
   "cell_type": "code",
   "execution_count": 13,
   "metadata": {},
   "outputs": [
    {
     "data": {
      "text/plain": [
       "{'name': 'Clark', 'build_year': '2023'}"
      ]
     },
     "execution_count": 13,
     "metadata": {},
     "output_type": "execute_result"
    }
   ],
   "source": [
    "x.__dict__"
   ]
  },
  {
   "cell_type": "code",
   "execution_count": 14,
   "metadata": {},
   "outputs": [
    {
     "data": {
      "text/plain": [
       "{'name': 'voidmain443', 'build_year': '2023'}"
      ]
     },
     "execution_count": 14,
     "metadata": {},
     "output_type": "execute_result"
    }
   ],
   "source": [
    "y.__dict__"
   ]
  },
  {
   "cell_type": "code",
   "execution_count": 15,
   "metadata": {},
   "outputs": [],
   "source": [
    "class Robot(object):\n",
    "    pass"
   ]
  },
  {
   "cell_type": "code",
   "execution_count": 16,
   "metadata": {},
   "outputs": [
    {
     "data": {
      "text/plain": [
       "'Musinsa'"
      ]
     },
     "execution_count": 16,
     "metadata": {},
     "output_type": "execute_result"
    }
   ],
   "source": [
    "x = Robot()\n",
    "Robot.brand = \"Musinsa\"\n",
    "x.brand"
   ]
  },
  {
   "cell_type": "code",
   "execution_count": 17,
   "metadata": {},
   "outputs": [
    {
     "data": {
      "text/plain": [
       "'Musinsa'"
      ]
     },
     "execution_count": 17,
     "metadata": {},
     "output_type": "execute_result"
    }
   ],
   "source": [
    "x.brand = \"Jira\"\n",
    "Robot.brand"
   ]
  },
  {
   "cell_type": "code",
   "execution_count": 18,
   "metadata": {},
   "outputs": [
    {
     "data": {
      "text/plain": [
       "'Musinsa'"
      ]
     },
     "execution_count": 18,
     "metadata": {},
     "output_type": "execute_result"
    }
   ],
   "source": [
    "y = Robot()\n",
    "y.brand"
   ]
  },
  {
   "cell_type": "code",
   "execution_count": 19,
   "metadata": {},
   "outputs": [
    {
     "data": {
      "text/plain": [
       "{'brand': 'Jira'}"
      ]
     },
     "execution_count": 19,
     "metadata": {},
     "output_type": "execute_result"
    }
   ],
   "source": [
    "x.__dict__"
   ]
  },
  {
   "cell_type": "code",
   "execution_count": 20,
   "metadata": {},
   "outputs": [
    {
     "data": {
      "text/plain": [
       "{}"
      ]
     },
     "execution_count": 20,
     "metadata": {},
     "output_type": "execute_result"
    }
   ],
   "source": [
    "y.__dict__"
   ]
  },
  {
   "cell_type": "code",
   "execution_count": 21,
   "metadata": {},
   "outputs": [
    {
     "data": {
      "text/plain": [
       "mappingproxy({'__module__': '__main__',\n",
       "              '__dict__': <attribute '__dict__' of 'Robot' objects>,\n",
       "              '__weakref__': <attribute '__weakref__' of 'Robot' objects>,\n",
       "              '__doc__': None,\n",
       "              'brand': 'Musinsa'})"
      ]
     },
     "execution_count": 21,
     "metadata": {},
     "output_type": "execute_result"
    }
   ],
   "source": [
    "Robot.__dict__"
   ]
  },
  {
   "cell_type": "code",
   "execution_count": 22,
   "metadata": {},
   "outputs": [
    {
     "data": {
      "text/plain": [
       "1000"
      ]
     },
     "execution_count": 22,
     "metadata": {},
     "output_type": "execute_result"
    }
   ],
   "source": [
    "getattr(x, 'energy', 1000)"
   ]
  },
  {
   "attachments": {},
   "cell_type": "markdown",
   "metadata": {},
   "source": [
    "파이썬에서 attribute를 object와 함께 바인딩은, 함수는 atrribute를 사용해서 아래와 같이 사용할 수 있다. \n",
    "그러나 C와 C++의 static function을 쓰는 경우에는 이렇게 가 아니라 아래와 같이 사용하기 위해서는 getattr의 형태로 그 형태를 스테틱하게 지정해야한다. \n"
   ]
  },
  {
   "cell_type": "code",
   "execution_count": 23,
   "metadata": {},
   "outputs": [
    {
     "name": "stdout",
     "output_type": "stream",
     "text": [
      "100\n"
     ]
    }
   ],
   "source": [
    "def f(x):\n",
    "    return 100\n",
    "f.x = 100\n",
    "print(f.x)"
   ]
  },
  {
   "cell_type": "code",
   "execution_count": 25,
   "metadata": {},
   "outputs": [
    {
     "data": {
      "text/plain": [
       "100"
      ]
     },
     "execution_count": 25,
     "metadata": {},
     "output_type": "execute_result"
    }
   ],
   "source": [
    "f.x"
   ]
  },
  {
   "cell_type": "code",
   "execution_count": 26,
   "metadata": {},
   "outputs": [
    {
     "name": "stdout",
     "output_type": "stream",
     "text": [
      "10\n"
     ]
    }
   ],
   "source": [
    "def f(x):\n",
    "    f.counter = getattr(f,\"counter\", 0 ) + 1 \n",
    "    return \"econo python\"\n",
    "for i in range(10):\n",
    "    f(i)\n",
    "print(f.counter)"
   ]
  },
  {
   "attachments": {},
   "cell_type": "markdown",
   "metadata": {},
   "source": [
    "클래스를 기억해보면 안에 메서드를 위와 같이 사용할 수 있다. "
   ]
  },
  {
   "cell_type": "code",
   "execution_count": 28,
   "metadata": {},
   "outputs": [
    {
     "name": "stdout",
     "output_type": "stream",
     "text": [
      "Hi, my name is voidmain443!\n"
     ]
    }
   ],
   "source": [
    "def hi(obj):\n",
    "    print(\"Hi, my name is \" + obj.name + \"!\")\n",
    "class Robot:\n",
    "    pass\n",
    "x = Robot()\n",
    "x.name = \"voidmain443\"\n",
    "hi(x)"
   ]
  },
  {
   "cell_type": "code",
   "execution_count": 29,
   "metadata": {},
   "outputs": [
    {
     "name": "stdout",
     "output_type": "stream",
     "text": [
      "Hi, this example is made by Jun\n"
     ]
    }
   ],
   "source": [
    "def hi(obj):\n",
    "    print(\"Hi, this example is made by \"+ obj.name)\n",
    "class Robot:\n",
    "    who_is = hi\n",
    "x = Robot()\n",
    "x.name = \"Jun\"\n",
    "Robot.who_is(x)"
   ]
  },
  {
   "attachments": {},
   "cell_type": "markdown",
   "metadata": {},
   "source": [
    "대부분 여기서부터 힘든 구간을 거친다. \n",
    "클래스 내의 `__init__` 메서드의 형태와 함께 어려움을가지는데 차근히 연습해보자;\n"
   ]
  },
  {
   "cell_type": "code",
   "execution_count": 30,
   "metadata": {},
   "outputs": [],
   "source": [
    "class A:\n",
    "    def __init__(self) -> None:\n",
    "        print(\"__init__ has been executed!\")"
   ]
  },
  {
   "cell_type": "code",
   "execution_count": 31,
   "metadata": {},
   "outputs": [
    {
     "name": "stdout",
     "output_type": "stream",
     "text": [
      "__init__ has been executed!\n"
     ]
    }
   ],
   "source": [
    "x = A()"
   ]
  },
  {
   "cell_type": "code",
   "execution_count": 32,
   "metadata": {},
   "outputs": [
    {
     "name": "stdout",
     "output_type": "stream",
     "text": [
      "Hi, I am a economist without a name\n",
      "hi, I am Adam simth\n"
     ]
    }
   ],
   "source": [
    "class economist:\n",
    "    def __init__(self, name=None):\n",
    "        self.name = name\n",
    "    def say_hi(self):\n",
    "        if self.name:\n",
    "            print(\"hi, I am \"+ self.name)\n",
    "        else:\n",
    "            print(\"Hi, I am a economist without a name\")\n",
    "\n",
    "x = economist()\n",
    "x.say_hi()\n",
    "y = economist(\"Adam simth\")\n",
    "y.say_hi()\n",
    "            "
   ]
  },
  {
   "cell_type": "code",
   "execution_count": 33,
   "metadata": {},
   "outputs": [
    {
     "name": "stdout",
     "output_type": "stream",
     "text": [
      "hi my name is marx\n",
      "marx\n"
     ]
    }
   ],
   "source": [
    "class economist:\n",
    "    def __init__(self, name=None):\n",
    "        self.name = name\n",
    "    def say_hi(self):\n",
    "        if self.name:\n",
    "            print(\"hi my name is \" + self.name)\n",
    "        else:\n",
    "            print(\"hi I am a economist without a name\")\n",
    "    def set_name(self, name):\n",
    "        self.name = name\n",
    "    def get_name(self):\n",
    "        return self.name\n",
    "\n",
    "x = economist()\n",
    "x.set_name(\"marx\")\n",
    "x.say_hi()\n",
    "y = economist()\n",
    "y.set_name(x.get_name())\n",
    "print(y.get_name())"
   ]
  },
  {
   "cell_type": "code",
   "execution_count": 35,
   "metadata": {},
   "outputs": [
    {
     "name": "stdout",
     "output_type": "stream",
     "text": [
      "Hi, I am Adam simth, who is economist\n",
      "I was registed to RePEc in 1708\n",
      "Hi, I am voidmain443, who is economist\n",
      "I didn't registied in RePEc ! you can find me in google scholar\n"
     ]
    }
   ],
   "source": [
    "class economist:\n",
    "    def __init__(self,\n",
    "                 name=None,\n",
    "                 RePEc_register_year=None):\n",
    "        self.name = name\n",
    "        self.RePEc_register_year = RePEc_register_year\n",
    "    def say_hi(self):\n",
    "        if self.name:\n",
    "            print(\"Hi, I am \" + self.name + \", who is economist\")\n",
    "        else:\n",
    "            print(\"Hi I am prepareing to be economist no name!\")\n",
    "        if self.RePEc_register_year:\n",
    "            print(\"I was registed to RePEc in \" + str(self.RePEc_register_year))\n",
    "        else:\n",
    "            print(\"I didn't registied in RePEc ! you can find me in google scholar\")\n",
    "    def set_name(self, name):\n",
    "        self.name = name\n",
    "    def get_name(self):\n",
    "        return self.name\n",
    "    def set_register_year(self, by):\n",
    "        self.RePEc_register_year = by \n",
    "    def get_register_year(self):\n",
    "        return self.RePEc_register_year\n",
    "    \n",
    "    \n",
    "x = economist(\"Adam simth\", 1708)\n",
    "y = economist()\n",
    "y.set_name(\"voidmain443\")\n",
    "x.say_hi()\n",
    "y.say_hi()"
   ]
  },
  {
   "attachments": {},
   "cell_type": "markdown",
   "metadata": {},
   "source": [
    "방금까지는 `__init__` 메서드르 ㄹ 배웠고 이제부터는 `__str__` 과 `__repr__` 를 배워볼 것이다."
   ]
  },
  {
   "cell_type": "code",
   "execution_count": 36,
   "metadata": {},
   "outputs": [
    {
     "name": "stdout",
     "output_type": "stream",
     "text": [
      "['Python', 'Lua', 'Julia']\n"
     ]
    }
   ],
   "source": [
    "l = ['Python', 'Lua', 'Julia']\n",
    "print(l)"
   ]
  },
  {
   "cell_type": "code",
   "execution_count": 37,
   "metadata": {},
   "outputs": [
    {
     "data": {
      "text/plain": [
       "\"['Python', 'Lua', 'Julia']\""
      ]
     },
     "execution_count": 37,
     "metadata": {},
     "output_type": "execute_result"
    }
   ],
   "source": [
    "str(l)"
   ]
  },
  {
   "cell_type": "code",
   "execution_count": 38,
   "metadata": {},
   "outputs": [
    {
     "data": {
      "text/plain": [
       "\"['Python', 'Lua', 'Julia']\""
      ]
     },
     "execution_count": 38,
     "metadata": {},
     "output_type": "execute_result"
    }
   ],
   "source": [
    "repr(l)"
   ]
  },
  {
   "cell_type": "code",
   "execution_count": 40,
   "metadata": {},
   "outputs": [],
   "source": [
    "d = {\"a\":1234, \"b\":3212, \"c\":3345}"
   ]
  },
  {
   "cell_type": "code",
   "execution_count": 41,
   "metadata": {},
   "outputs": [
    {
     "name": "stdout",
     "output_type": "stream",
     "text": [
      "{'a': 1234, 'b': 3212, 'c': 3345}\n"
     ]
    }
   ],
   "source": [
    "print(d)"
   ]
  },
  {
   "cell_type": "code",
   "execution_count": 42,
   "metadata": {},
   "outputs": [
    {
     "data": {
      "text/plain": [
       "\"{'a': 1234, 'b': 3212, 'c': 3345}\""
      ]
     },
     "execution_count": 42,
     "metadata": {},
     "output_type": "execute_result"
    }
   ],
   "source": [
    "str(d)"
   ]
  },
  {
   "cell_type": "code",
   "execution_count": 43,
   "metadata": {},
   "outputs": [
    {
     "data": {
      "text/plain": [
       "\"{'a': 1234, 'b': 3212, 'c': 3345}\""
      ]
     },
     "execution_count": 43,
     "metadata": {},
     "output_type": "execute_result"
    }
   ],
   "source": [
    "repr(d)"
   ]
  },
  {
   "cell_type": "code",
   "execution_count": 44,
   "metadata": {},
   "outputs": [
    {
     "data": {
      "text/plain": [
       "'578.43'"
      ]
     },
     "execution_count": 44,
     "metadata": {},
     "output_type": "execute_result"
    }
   ],
   "source": [
    "x = 578.43\n",
    "str(x)"
   ]
  },
  {
   "cell_type": "code",
   "execution_count": 45,
   "metadata": {},
   "outputs": [
    {
     "data": {
      "text/plain": [
       "'578.43'"
      ]
     },
     "execution_count": 45,
     "metadata": {},
     "output_type": "execute_result"
    }
   ],
   "source": [
    "repr(x)"
   ]
  },
  {
   "attachments": {},
   "cell_type": "markdown",
   "metadata": {},
   "source": [
    "If you apply str or repr to an object, Python is looking for a corresponding method `__str__` or `__repr__` in the class definition of the object. If the method does exist, it will be called. In the following example, we define a class A, having neither a `__str__` nor a `__repr__` method. We want to see, what happens, if we use print directly on an instance of this class, or if we apply str or repr to this instance:"
   ]
  },
  {
   "cell_type": "code",
   "execution_count": 46,
   "metadata": {},
   "outputs": [
    {
     "name": "stdout",
     "output_type": "stream",
     "text": [
      "<__main__.A object at 0x105d59610>\n"
     ]
    }
   ],
   "source": [
    "class A:\n",
    "    pass\n",
    "a = A()\n",
    "print(a)"
   ]
  },
  {
   "cell_type": "code",
   "execution_count": 47,
   "metadata": {},
   "outputs": [
    {
     "name": "stdout",
     "output_type": "stream",
     "text": [
      "<__main__.A object at 0x105d59610>\n"
     ]
    }
   ],
   "source": [
    "print(repr(a))"
   ]
  },
  {
   "cell_type": "code",
   "execution_count": 48,
   "metadata": {},
   "outputs": [
    {
     "name": "stdout",
     "output_type": "stream",
     "text": [
      "<__main__.A object at 0x105d59610>\n"
     ]
    }
   ],
   "source": [
    "print(str(a))"
   ]
  },
  {
   "cell_type": "code",
   "execution_count": 49,
   "metadata": {},
   "outputs": [
    {
     "data": {
      "text/plain": [
       "<__main__.A at 0x105d59610>"
      ]
     },
     "execution_count": 49,
     "metadata": {},
     "output_type": "execute_result"
    }
   ],
   "source": [
    "a"
   ]
  },
  {
   "attachments": {},
   "cell_type": "markdown",
   "metadata": {},
   "source": [
    "As both methods are not available, Python uses the default output for our object \"a\".\n",
    "\n",
    "If a class has a `__str__` method, the method will be used for an instance x of that class, if either the function str is applied to it or if it is used in a print function. `__str__` will not be used, if repr is called, or if we try to output the value directly in an interactive Python shell"
   ]
  },
  {
   "cell_type": "code",
   "execution_count": 50,
   "metadata": {},
   "outputs": [
    {
     "name": "stdout",
     "output_type": "stream",
     "text": [
      "<__main__.A object at 0x105e2b730>\n"
     ]
    }
   ],
   "source": [
    "class A:\n",
    "    def __str__(self) -> str:\n",
    "        return \"31\"\n",
    "a = A()\n",
    "print(repr(a))"
   ]
  },
  {
   "cell_type": "code",
   "execution_count": 52,
   "metadata": {},
   "outputs": [
    {
     "name": "stdout",
     "output_type": "stream",
     "text": [
      "31\n"
     ]
    }
   ],
   "source": [
    "print(str(a))"
   ]
  },
  {
   "cell_type": "code",
   "execution_count": 53,
   "metadata": {},
   "outputs": [
    {
     "name": "stdout",
     "output_type": "stream",
     "text": [
      "31\n",
      "31\n"
     ]
    }
   ],
   "source": [
    "class A:\n",
    "    def __repr__(self) -> str:\n",
    "        return \"31\"\n",
    "a = A()\n",
    "print(repr(a))\n",
    "print(str(a))"
   ]
  },
  {
   "attachments": {},
   "cell_type": "markdown",
   "metadata": {},
   "source": [
    "여기서그러면 다들 ㅂ물어보는건 repr과 str 는 무슨 차이냐라는 문제를 물어보는 사람들이 많다. \n",
    "str는 word로 프린팅해줄것이다. repr는 intermal representation에 사용된다."
   ]
  },
  {
   "cell_type": "code",
   "execution_count": 55,
   "metadata": {},
   "outputs": [
    {
     "data": {
      "text/plain": [
       "'[3, 8, 9]'"
      ]
     },
     "execution_count": 55,
     "metadata": {},
     "output_type": "execute_result"
    }
   ],
   "source": [
    "l = [3,8,9]\n",
    "s = repr(l)\n",
    "s"
   ]
  },
  {
   "cell_type": "code",
   "execution_count": 56,
   "metadata": {},
   "outputs": [],
   "source": [
    "l = eval(s)"
   ]
  },
  {
   "cell_type": "code",
   "execution_count": 57,
   "metadata": {},
   "outputs": [
    {
     "data": {
      "text/plain": [
       "[3, 8, 9]"
      ]
     },
     "execution_count": 57,
     "metadata": {},
     "output_type": "execute_result"
    }
   ],
   "source": [
    "l"
   ]
  },
  {
   "cell_type": "code",
   "execution_count": 58,
   "metadata": {},
   "outputs": [
    {
     "data": {
      "text/plain": [
       "True"
      ]
     },
     "execution_count": 58,
     "metadata": {},
     "output_type": "execute_result"
    }
   ],
   "source": [
    "l == eval(s)"
   ]
  },
  {
   "cell_type": "code",
   "execution_count": 59,
   "metadata": {},
   "outputs": [
    {
     "data": {
      "text/plain": [
       "True"
      ]
     },
     "execution_count": 59,
     "metadata": {},
     "output_type": "execute_result"
    }
   ],
   "source": [
    "l == eval(str(l))"
   ]
  },
  {
   "cell_type": "code",
   "execution_count": 60,
   "metadata": {},
   "outputs": [
    {
     "ename": "SyntaxError",
     "evalue": "leading zeros in decimal integer literals are not permitted; use an 0o prefix for octal integers (<string>, line 1)",
     "output_type": "error",
     "traceback": [
      "Traceback \u001b[0;36m(most recent call last)\u001b[0m:\n",
      "\u001b[0m  File \u001b[1;32m~/githubLink/economic_lec/lib/python3.9/site-packages/IPython/core/interactiveshell.py:3460\u001b[0m in \u001b[1;35mrun_code\u001b[0m\n    exec(code_obj, self.user_global_ns, self.user_ns)\u001b[0m\n",
      "\u001b[0;36m  Cell \u001b[0;32mIn[60], line 4\u001b[0;36m\n\u001b[0;31m    eval(str_s)\u001b[0;36m\n",
      "\u001b[0;36m  File \u001b[0;32m<string>:1\u001b[0;36m\u001b[0m\n\u001b[0;31m    2023-03-26 14:03:18.689181\u001b[0m\n\u001b[0m          ^\u001b[0m\n\u001b[0;31mSyntaxError\u001b[0m\u001b[0;31m:\u001b[0m leading zeros in decimal integer literals are not permitted; use an 0o prefix for octal integers\n"
     ]
    }
   ],
   "source": [
    "import datetime\n",
    "today = datetime.datetime.now()\n",
    "str_s = str(today)\n",
    "eval(str_s)"
   ]
  },
  {
   "cell_type": "code",
   "execution_count": 61,
   "metadata": {},
   "outputs": [
    {
     "data": {
      "text/plain": [
       "datetime.datetime"
      ]
     },
     "execution_count": 61,
     "metadata": {},
     "output_type": "execute_result"
    }
   ],
   "source": [
    "repr_s = repr(today)\n",
    "t = eval(repr_s)\n",
    "type(t)"
   ]
  },
  {
   "attachments": {},
   "cell_type": "markdown",
   "metadata": {},
   "source": [
    "datetime과 같은 object들은 str로 부를 때 재사용에 문제가 있어 이에 있어서는 repr를쓰는 것이 좋다. \n"
   ]
  },
  {
   "cell_type": "code",
   "execution_count": 62,
   "metadata": {},
   "outputs": [
    {
     "name": "stdout",
     "output_type": "stream",
     "text": [
      "economist('clark', 1984)\n",
      "Type of x_str:  <class 'str'>\n",
      "economist('clark', 1984)\n",
      "Type of new: <class '__main__.economist'>\n"
     ]
    }
   ],
   "source": [
    "class economist:\n",
    "    def __init__(self, name, RePEc_date) -> None:\n",
    "        self.name = name\n",
    "        self.RePEc_date = RePEc_date\n",
    "    def __repr__(self) -> str:\n",
    "        return \"economist('\" + self.name +\"', \" + str(self.RePEc_date) + \")\"\n",
    "if __name__ == \"__main__\":\n",
    "    x = economist('clark', 1984)\n",
    "    x_str = str(x)\n",
    "    print(x_str)\n",
    "    print(\"Type of x_str: \",type(x_str))\n",
    "    new = eval(x_str)\n",
    "    print(new)\n",
    "    print(\"Type of new:\", type(new))"
   ]
  },
  {
   "attachments": {},
   "cell_type": "markdown",
   "metadata": {},
   "source": [
    "위에 작성한 것들을 조금 더 magic method들을 사용해서 작성해보자. "
   ]
  },
  {
   "cell_type": "code",
   "execution_count": 64,
   "metadata": {},
   "outputs": [
    {
     "name": "stdout",
     "output_type": "stream",
     "text": [
      "economist('clark, 1974)\n",
      "Type of x_str :  <class 'str'>\n"
     ]
    },
    {
     "ename": "SyntaxError",
     "evalue": "EOL while scanning string literal (<string>, line 1)",
     "output_type": "error",
     "traceback": [
      "Traceback \u001b[0;36m(most recent call last)\u001b[0m:\n",
      "\u001b[0m  File \u001b[1;32m~/githubLink/economic_lec/lib/python3.9/site-packages/IPython/core/interactiveshell.py:3460\u001b[0m in \u001b[1;35mrun_code\u001b[0m\n    exec(code_obj, self.user_global_ns, self.user_ns)\u001b[0m\n",
      "\u001b[0;36m  Cell \u001b[0;32mIn[64], line 16\u001b[0;36m\n\u001b[0;31m    new = eval(x_str)\u001b[0;36m\n",
      "\u001b[0;36m  File \u001b[0;32m<string>:1\u001b[0;36m\u001b[0m\n\u001b[0;31m    economist('clark, 1974)\u001b[0m\n\u001b[0m                          ^\u001b[0m\n\u001b[0;31mSyntaxError\u001b[0m\u001b[0;31m:\u001b[0m EOL while scanning string literal\n"
     ]
    }
   ],
   "source": [
    "class economist:\n",
    "    def __init__(self, name, RePEc_day):\n",
    "        self.name = name\n",
    "        self.RePEc_day = RePEc_day\n",
    "    def __repr__(self) -> str:\n",
    "        return \"economist('\" + self.name +\"', \" + str(self.RePEc_day) + \")\"\n",
    "    def __str__(self) -> str:\n",
    "        return \"economist('\" + self.name + \", \" + str(self.RePEc_day) + \")\"\n",
    "\n",
    "\n",
    "if __name__ == \"__main__\":\n",
    "    x = economist(\"clark\", 1974)\n",
    "    x_str = str(x)\n",
    "    print(x_str)\n",
    "    print(\"Type of x_str : \", type(x_str))\n",
    "    new = eval(x_str)\n",
    "    print(new)\n",
    "    print(\"Type of new: \", type(new))"
   ]
  },
  {
   "cell_type": "code",
   "execution_count": 65,
   "metadata": {},
   "outputs": [
    {
     "name": "stdout",
     "output_type": "stream",
     "text": [
      "economist('clark', 1974) <class 'str'>\n",
      "economist('clark, 1974)\n",
      "Type of new:  <class '__main__.economist'>\n"
     ]
    }
   ],
   "source": [
    "class economist:\n",
    "    def __init__(self, name, RePEc_day):\n",
    "        self.name = name\n",
    "        self.RePEc_day = RePEc_day\n",
    "    def __repr__(self) -> str:\n",
    "        return \"economist('\" + self.name +\"', \" + str(self.RePEc_day) + \")\"\n",
    "    def __str__(self) -> str:\n",
    "        return \"economist('\" + self.name + \", \" + str(self.RePEc_day) + \")\"\n",
    "\n",
    "\n",
    "if __name__ == \"__main__\":\n",
    "    x = economist(\"clark\", 1974)\n",
    "    x_repr = repr(x)\n",
    "    print(x_repr, type(x_repr))\n",
    "    new = eval(x_repr)\n",
    "    print(new)\n",
    "    print(\"Type of new: \", type(new))"
   ]
  },
  {
   "attachments": {},
   "cell_type": "markdown",
   "metadata": {},
   "source": [
    " 코드를 찬찬히 읽어보고 repr과 str를 가지고 한번 조금더 이해해보자 .\n",
    " repr은 new가 무엇을 받느지에 대해서 이해하고 보는것이 중요하다. \n"
   ]
  },
  {
   "cell_type": "code",
   "execution_count": 66,
   "metadata": {},
   "outputs": [],
   "source": [
    "class A():\n",
    "    def __init__(self):\n",
    "        self.__priv = \"I am private\"\n",
    "        self._prot = \"I am protected\"\n",
    "        self.pub = \"I am public\""
   ]
  },
  {
   "cell_type": "code",
   "execution_count": 67,
   "metadata": {},
   "outputs": [
    {
     "data": {
      "text/plain": [
       "'I am public'"
      ]
     },
     "execution_count": 67,
     "metadata": {},
     "output_type": "execute_result"
    }
   ],
   "source": [
    "x = A()\n",
    "x.pub"
   ]
  },
  {
   "cell_type": "code",
   "execution_count": 68,
   "metadata": {},
   "outputs": [
    {
     "data": {
      "text/plain": [
       "'I am publicand my value can change'"
      ]
     },
     "execution_count": 68,
     "metadata": {},
     "output_type": "execute_result"
    }
   ],
   "source": [
    "x.pub = x.pub + \"and my value can change\"\n",
    "x.pub"
   ]
  },
  {
   "cell_type": "code",
   "execution_count": 69,
   "metadata": {},
   "outputs": [
    {
     "data": {
      "text/plain": [
       "'I am protected'"
      ]
     },
     "execution_count": 69,
     "metadata": {},
     "output_type": "execute_result"
    }
   ],
   "source": [
    "x._prot"
   ]
  },
  {
   "cell_type": "code",
   "execution_count": 70,
   "metadata": {},
   "outputs": [
    {
     "ename": "AttributeError",
     "evalue": "'A' object has no attribute '__priv'",
     "output_type": "error",
     "traceback": [
      "\u001b[0;31m---------------------------------------------------------------------------\u001b[0m",
      "\u001b[0;31mAttributeError\u001b[0m                            Traceback (most recent call last)",
      "Cell \u001b[0;32mIn[70], line 1\u001b[0m\n\u001b[0;32m----> 1\u001b[0m x\u001b[39m.\u001b[39;49m__priv\n",
      "\u001b[0;31mAttributeError\u001b[0m: 'A' object has no attribute '__priv'"
     ]
    }
   ],
   "source": [
    "x.__priv"
   ]
  },
  {
   "cell_type": "code",
   "execution_count": 71,
   "metadata": {},
   "outputs": [
    {
     "name": "stdout",
     "output_type": "stream",
     "text": [
      "Tik-Tok has been created!\n",
      "Jenkins has been created!\n",
      "Deleting x\n",
      "Deleting z\n",
      "Robot has been destroyed\n",
      "Robot has been destroyed\n"
     ]
    }
   ],
   "source": [
    "class Robot():\n",
    "    def __init__(self, name):\n",
    "        print(name + \" has been created!\")\n",
    "    def __del__(self):\n",
    "        print (\"Robot has been destroyed\")\n",
    "if __name__ == \"__main__\":\n",
    "    x = Robot(\"Tik-Tok\")\n",
    "    y = Robot(\"Jenkins\")\n",
    "    z = x\n",
    "    print(\"Deleting x\")\n",
    "    del x\n",
    "    print(\"Deleting z\")\n",
    "    del z\n",
    "    del y"
   ]
  },
  {
   "cell_type": "code",
   "execution_count": 72,
   "metadata": {},
   "outputs": [
    {
     "name": "stderr",
     "output_type": "stream",
     "text": [
      "Exception ignored in: <function Robot.__del__ at 0x105f8bc10>\n",
      "Traceback (most recent call last):\n",
      "  File \"/var/folders/tv/3txzrf5n0j9_th2qrtdyl1500000gn/T/ipykernel_33177/829805149.py\", line 5, in __del__\n",
      "AttributeError: 'Robot' object has no attribute 'name'\n",
      "Exception ignored in: <function Robot.__del__ at 0x105f8bc10>\n",
      "Traceback (most recent call last):\n",
      "  File \"/var/folders/tv/3txzrf5n0j9_th2qrtdyl1500000gn/T/ipykernel_33177/829805149.py\", line 5, in __del__\n",
      "AttributeError: 'Robot' object has no attribute 'name'\n"
     ]
    },
    {
     "name": "stdout",
     "output_type": "stream",
     "text": [
      "Tik-Tok has been created!\n",
      "Jenkins has been created!\n",
      "Deleting x\n",
      "Deleting z\n"
     ]
    }
   ],
   "source": [
    "class Robot():\n",
    "    def __init__(self, name):\n",
    "        print(name + \" has been created!\")\n",
    "    def __del__(self):\n",
    "        print (self.name + \" says bye-bye!\")\n",
    "if __name__ == \"__main__\":\n",
    "    x = Robot(\"Tik-Tok\")\n",
    "    y = Robot(\"Jenkins\")\n",
    "    z = x\n",
    "    print(\"Deleting x\")\n",
    "    del x\n",
    "    print(\"Deleting z\")\n",
    "    del z\n",
    "    del y"
   ]
  },
  {
   "attachments": {},
   "cell_type": "markdown",
   "metadata": {},
   "source": [
    "이런 현상이 일어나기때문에 del메서드는 자주 사용되진 않는다 ."
   ]
  },
  {
   "attachments": {},
   "cell_type": "markdown",
   "metadata": {},
   "source": [
    "# Understanding the class \n",
    "클래스와 그안의 attribute를 이해하는 것이 오늘 할것이다 ."
   ]
  },
  {
   "cell_type": "code",
   "execution_count": 73,
   "metadata": {},
   "outputs": [
    {
     "data": {
      "text/plain": [
       "'I am a class attribute!'"
      ]
     },
     "execution_count": 73,
     "metadata": {},
     "output_type": "execute_result"
    }
   ],
   "source": [
    "class A:\n",
    "    a = \"I am a class attribute!\"\n",
    "x = A()\n",
    "y = A()\n",
    "x.a"
   ]
  },
  {
   "cell_type": "code",
   "execution_count": 74,
   "metadata": {},
   "outputs": [
    {
     "data": {
      "text/plain": [
       "'I am a class attribute!'"
      ]
     },
     "execution_count": 74,
     "metadata": {},
     "output_type": "execute_result"
    }
   ],
   "source": [
    "y.a"
   ]
  },
  {
   "cell_type": "code",
   "execution_count": 75,
   "metadata": {},
   "outputs": [
    {
     "data": {
      "text/plain": [
       "'I am a class attribute!'"
      ]
     },
     "execution_count": 75,
     "metadata": {},
     "output_type": "execute_result"
    }
   ],
   "source": [
    "A.a"
   ]
  },
  {
   "cell_type": "code",
   "execution_count": null,
   "metadata": {},
   "outputs": [],
   "source": []
  }
 ],
 "metadata": {
  "kernelspec": {
   "display_name": "economic_lec",
   "language": "python",
   "name": "python3"
  },
  "language_info": {
   "codemirror_mode": {
    "name": "ipython",
    "version": 3
   },
   "file_extension": ".py",
   "mimetype": "text/x-python",
   "name": "python",
   "nbconvert_exporter": "python",
   "pygments_lexer": "ipython3",
   "version": "3.9.6"
  },
  "orig_nbformat": 4
 },
 "nbformat": 4,
 "nbformat_minor": 2
}
