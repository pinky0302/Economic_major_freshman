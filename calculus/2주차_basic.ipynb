{
  "cells": [
    {
      "cell_type": "markdown",
      "metadata": {
        "id": "wn9WEdqkIxsH"
      },
      "source": [
        "# Chapter1. Sympy와 함께하는 대수의 표현과 문제풀이\n",
        "-----\n",
        "안녕하세요 여러분  \n",
        "2주차 실습에 오신걸 환영합니다.  \n",
        "\n",
        "\n",
        "경제학과를 위해서 수식을 작성하고 보고서를 작성해서 데이터와 함께 해서 내는 것은 소양입니다. \n",
        "한국은행과 국회예산정책처 및 KDI,KIEP 정책 연구원등의 인문사회연구원에 소속된 경제학자들의 글을 자주 읽거나 국책 연구기관 혹은 해외 경제싱크탱크의 보고서를 자주 읽어보면 좀 더 경제학 전공자들의 글쓰기 스타일을 알아볼 수 있을 것입니다.  \n",
        "주로 정부의 정책의 파급효과를 연구하는 보고서가 대다수이긴 할지라도 각 기관들의 세부 연구와 실증을 위해서는 논리적인 사고와 해석하려고 하는 학자들의 노력들을 보고 학습해 볼 수 있습니다.   \n",
        "\n",
        "\n",
        "[국회예산정책처](https://nabo.go.kr/Sub/01Report/01_02_Board.jsp?funcSUB=list&bid=19&arg_cid1=0&arg_cid2=0&arg_class_id=0&currentPage=0&pageSize=10&currentPageSUB=0&pageSizeSUB=10&key_typeSUB=&keySUB=&search_start_dateSUB=&search_end_dateSUB=&department=0&department_sub=0&etc_cate1=C&etc_cate2=&sortBy=reg_date&ascOrDesc=desc&search_key1=&etc_1=경제+전망+및+정책+분석&etc_2=3&tag_key=경제+전망+및+정책+분석&name=예산분석&name2=1&name=경제+전망+및+정책+분석&name2=3)와 [한국은행](https://www.bok.or.kr/portal/bbs/P0002359/list.do?menuNo=200066) 그리고 [kdi](https://www.kdi.re.kr/research/topicList), [대외경제정책연구원](https://www.kiep.go.kr/gallery.es?mid=a10101020000&bid=0001&cg_code=C03) 자료들을 읽으면서 1학년 기간동안에는 어떤 주제들이 사회에서 영향을 미치고 연구되고 있는지에 대해서 brief한 정도로 읽을 수 있을 겁니다.  \n",
        "\n",
        "\n",
        "(이후 학년에서는 좀더 근본적인 주제에 대해 연구하는 연구소들의 보고서를 읽을 수 있을 겁니다)\n",
        " \n",
        "\n",
        "기본적인 부분으로 우리는 이번 주차에서는 경제학의 기본적으로 도구로 **LateX**(수식을 작성하고 문서를 조판하는 도구) 와 **프로그래밍**(나의 경제 이론을 전개할 수 있는 도구) 그리고 **수학과 데이터(통계)**(정량적인 접근법을 채택한 경제학의 실증의 도구)를 통해 배워 나갈 것이라고 저번 시간에 말했습니다. \n",
        "\n",
        "이번주에는 저번 시간의 LateX 수학 표기법에 이어 대수적 표현방법에 대한 이해를 돕기 위해 간단한 소개를 중심으로 진행해보자 합니다. \n",
        "\n",
        "\n",
        "## LateX으로 적는 수식들 \n",
        "저번 주차의 참고자료들과 내용들을 잘 복습했다면 대부분 아는 내용들일 겁니다. \n",
        "\n",
        "| 표기 방법  | latex 결과 표기 j  |\n",
        "----------|--------\n",
        "| 3 \\times 4  | $3×4$ |\n",
        "|  x_i  | $x_i$  |\n",
        "| x^k  | $x^k$  |\n",
        "|  \\sqrt{2} |  $\\sqrt{2}$ |\n",
        "| \\int_0^1 g(x) dx|  $\\int_0^1 g(x) dx$ |\n",
        "|  \\alpha + \\beta | $\\alpha + \\beta $  |\n",
        "|\\sum_{i=0}^{n}x_i | $\\sum_{i=0}^{n}x_i $  |\n",
        "\n",
        "행렬 표현 같은 경우에는 적기 어려웠고 이러한 부분들을 아래 코드처럼 적기 어려웠다면 오늘 배울 대수적 표현방법들을 컴퓨터로 풀어보는 연습과 함께 익숙해지면 좋을 것 같습니다.  \n",
        "\n",
        "```\n",
        "$y=x^2$\n",
        "\n",
        "$e^{i\\pi} + 1 = 0$\n",
        "\n",
        "$e^x=\\sum_{i=0}^\\infty \\frac{1}{i!}x^i$\n",
        "\n",
        "$\\frac{n!}{k!(n-k)!} = {n \\choose k}$\n",
        "\n",
        "$A_{m,n} =\n",
        " \\begin{pmatrix}\n",
        "  a_{1,1} & a_{1,2} & \\cdots & a_{1,n} \\\\\n",
        "  a_{2,1} & a_{2,2} & \\cdots & a_{2,n} \\\\\n",
        "  \\vdots  & \\vdots  & \\ddots & \\vdots  \\\\\n",
        "  a_{m,1} & a_{m,2} & \\cdots & a_{m,n}\n",
        " \\end{pmatrix}$\n",
        "```\n",
        "\n",
        "$y=x^2$\n",
        "\n",
        "$e^{i\\pi} + 1 = 0$\n",
        "\n",
        "$e^x=\\sum_{i=0}^\\infty \\frac{1}{i!}x^i$\n",
        "\n",
        "$\\frac{n!}{k!(n-k)!} = {n \\choose k}$\n",
        "\n",
        "$A_{m,n} =\n",
        " \\begin{pmatrix}\n",
        "  a_{1,1} & a_{1,2} & \\cdots & a_{1,n} \\\\\n",
        "  a_{2,1} & a_{2,2} & \\cdots & a_{2,n} \\\\\n",
        "  \\vdots  & \\vdots  & \\ddots & \\vdots  \\\\\n",
        "  a_{m,1} & a_{m,2} & \\cdots & a_{m,n}\n",
        " \\end{pmatrix}$\n",
        "\n"
      ]
    },
    {
      "cell_type": "markdown",
      "metadata": {
        "id": "bsBtUQ3zpxC3"
      },
      "source": [
        "많은 수식적표현은 위와 같이 **LateX**문법을 통해서 작성할 수 있다. \n",
        "\n"
      ]
    },
    {
      "cell_type": "code",
      "execution_count": null,
      "metadata": {
        "id": "lHh8qoE9dzWj"
      },
      "outputs": [],
      "source": []
    },
    {
      "cell_type": "markdown",
      "metadata": {
        "id": "n9ZRG6c4JbQt"
      },
      "source": [
        "# sympy 전체적으로 살펴보기\n",
        "파이썬 프로젝트 에서 자주 배운 math 패키지가 있음에도 불구하고 왜 굳이 sympy인가에 대한 질문이 많습니다. 기본적으로 우리가 바라는 어떤 값을 구할 때는 math 패키지를 이용해서 구할 수 있습니다. 그러나 우리가 대수로 연산을 하고 싶을 때는 어떻게 해야할까요 ?\n",
        "\n",
        "math로는 기본적인 수식 연산을 진행할 수 있습니다. $\\sqrt{9}$에 대한 값은 3으로 나옵니다. 그러나 $2\\sqrt{2}$로 표현하여 계산하고 싶은 경우 및 값이 아닌 대수로 연산하는 것의 차이는 크다. 우리는 아래와 같이 2.828..을 원할지 아니면 $2\\sqrt{2}$를 원하는지는 목적에 따라 다를 것입니다. \n"
      ]
    },
    {
      "cell_type": "code",
      "execution_count": 6,
      "metadata": {
        "colab": {
          "base_uri": "https://localhost:8080/"
        },
        "id": "e-aRgchpJl5T",
        "outputId": "3ac2025e-ecdf-49ba-8ee8-e401fd6bbd83"
      },
      "outputs": [
        {
          "data": {
            "text/plain": [
              "3.0"
            ]
          },
          "execution_count": 6,
          "metadata": {},
          "output_type": "execute_result"
        }
      ],
      "source": [
        "import math\n",
        "math.sqrt(9)"
      ]
    },
    {
      "cell_type": "code",
      "execution_count": 7,
      "metadata": {
        "colab": {
          "base_uri": "https://localhost:8080/"
        },
        "id": "BRCfj-tzJl2M",
        "outputId": "433ca608-977b-45dd-d4f5-2e0157c6239d"
      },
      "outputs": [
        {
          "data": {
            "text/plain": [
              "2.8284271247461903"
            ]
          },
          "execution_count": 7,
          "metadata": {},
          "output_type": "execute_result"
        }
      ],
      "source": [
        "math.sqrt(8) # this is not we want we want 2root2 is the answer and how we can do it ? then we have to use sympy"
      ]
    },
    {
      "cell_type": "code",
      "execution_count": 8,
      "metadata": {
        "colab": {
          "base_uri": "https://localhost:8080/",
          "height": 38
        },
        "id": "b-g-nB9vJlzV",
        "outputId": "202f8adf-5ac9-4ee1-a4ae-05f8d10ed783"
      },
      "outputs": [
        {
          "data": {
            "text/latex": [
              "$\\displaystyle \\sqrt{3}$"
            ],
            "text/plain": [
              "sqrt(3)"
            ]
          },
          "execution_count": 8,
          "metadata": {},
          "output_type": "execute_result"
        }
      ],
      "source": [
        "import sympy\n",
        "sympy.sqrt(3)"
      ]
    },
    {
      "cell_type": "code",
      "execution_count": 9,
      "metadata": {
        "colab": {
          "base_uri": "https://localhost:8080/",
          "height": 38
        },
        "id": "TEGPJ0lHJlwx",
        "outputId": "b929661f-2375-4737-b338-44723e3e9122"
      },
      "outputs": [
        {
          "data": {
            "text/latex": [
              "$\\displaystyle 2 \\sqrt{2}$"
            ],
            "text/plain": [
              "2*sqrt(2)"
            ]
          },
          "execution_count": 9,
          "metadata": {},
          "output_type": "execute_result"
        }
      ],
      "source": [
        "sympy.sqrt(8)"
      ]
    },
    {
      "cell_type": "markdown",
      "metadata": {
        "id": "RItaaXtFv5B1"
      },
      "source": [
        "대수연산은 아래와 같이 진행 할 수 있습니다. \n",
        "변수를 정의해주는 친구로 symbol(단일)과 symbols(다중)을 가지고 정의할 수 있습니다. \n",
        "\n",
        "아래와 같이 변수를 어떤 식에 넣어 전개를 할때 최종적으로 전개를 하고 변수에대해 정리하기도 합니다. \n",
        "이를 factor 와 expand 를 사용하여 전개와 정리를 해줄 수 있다. "
      ]
    },
    {
      "cell_type": "code",
      "execution_count": 10,
      "metadata": {
        "colab": {
          "base_uri": "https://localhost:8080/",
          "height": 39
        },
        "id": "1Zd8c3mzJlt2",
        "outputId": "aaecc8d6-62be-473c-d891-49cd8a8636ad"
      },
      "outputs": [
        {
          "data": {
            "text/latex": [
              "$\\displaystyle x^{2} + 2 x y$"
            ],
            "text/plain": [
              "x**2 + 2*x*y"
            ]
          },
          "execution_count": 10,
          "metadata": {},
          "output_type": "execute_result"
        }
      ],
      "source": [
        "from sympy import symbols, expand, factor\n",
        "x,y = symbols('x y')\n",
        "expr = x+2*y\n",
        "expanded_expr = expand(x*expr)\n",
        "expanded_expr"
      ]
    },
    {
      "cell_type": "code",
      "execution_count": 15,
      "metadata": {
        "id": "UBkAn9CbJlq8"
      },
      "outputs": [],
      "source": [
        "# power symbolic computation\n",
        "from sympy import *\n",
        "x, t, z, nu = symbols('x t z nu')\n",
        "init_printing(use_unicode=True)"
      ]
    },
    {
      "cell_type": "markdown",
      "metadata": {
        "id": "_cxWQE_kZ-5y"
      },
      "source": [
        "미분과 적분를 할 수 있는 것으로 diff를 이용하여 작성하며 또한 integrate를 통해서 인자로 식과 , 변수 하나를 인자로 집어 넣어서 계산할 수 있다. "
      ]
    },
    {
      "cell_type": "code",
      "execution_count": 13,
      "metadata": {
        "colab": {
          "base_uri": "https://localhost:8080/",
          "height": 39
        },
        "id": "J_VnKBa8Jln5",
        "outputId": "f468eae0-108e-4bd8-c12b-b7c5c56507d6"
      },
      "outputs": [
        {
          "data": {
            "image/png": "[encoded data removed]",
            "text/latex": [
              "$\\displaystyle e^{x} \\sin{\\left(x \\right)} + e^{x} \\cos{\\left(x \\right)}$"
            ],
            "text/plain": [
              " x           x       \n",
              "ℯ ⋅sin(x) + ℯ ⋅cos(x)"
            ]
          },
          "execution_count": 13,
          "metadata": {},
          "output_type": "execute_result"
        }
      ],
      "source": [
        "diff(sin(x)*exp(x),x)"
      ]
    },
    {
      "cell_type": "code",
      "execution_count": 14,
      "metadata": {
        "colab": {
          "base_uri": "https://localhost:8080/",
          "height": 39
        },
        "id": "BJtqxO6AJllL",
        "outputId": "c359168b-d78f-4562-bf54-91a8949f9b96"
      },
      "outputs": [
        {
          "data": {
            "image/png": "[encoded data removed]",
            "text/latex": [
              "$\\displaystyle e^{x} \\sin{\\left(x \\right)}$"
            ],
            "text/plain": [
              " x       \n",
              "ℯ ⋅sin(x)"
            ]
          },
          "execution_count": 14,
          "metadata": {},
          "output_type": "execute_result"
        }
      ],
      "source": [
        "integrate(exp(x)*sin(x) + exp(x)*cos(x),x)"
      ]
    },
    {
      "cell_type": "code",
      "execution_count": 16,
      "metadata": {
        "colab": {
          "base_uri": "https://localhost:8080/",
          "height": 55
        },
        "id": "zdoh_6Y8Jliq",
        "outputId": "4f8e12d4-ddd0-425d-b6b0-665613807c29"
      },
      "outputs": [
        {
          "data": {
            "image/png": "[encoded data removed]",
            "text/latex": [
              "$\\displaystyle \\frac{\\sqrt{2} \\sqrt{\\pi}}{2}$"
            ],
            "text/plain": [
              "√2⋅√π\n",
              "─────\n",
              "  2  "
            ]
          },
          "execution_count": 16,
          "metadata": {},
          "output_type": "execute_result"
        }
      ],
      "source": [
        "# 적분 전체 에 대해서 sin x ^2 에 대해서 oo~oo까지 \n",
        "integrate(sin(x**2),(x,-oo,oo))"
      ]
    },
    {
      "cell_type": "code",
      "execution_count": 17,
      "metadata": {
        "colab": {
          "base_uri": "https://localhost:8080/",
          "height": 37
        },
        "id": "HEkFTuBWJlfk",
        "outputId": "634f2a07-24d4-4320-9d79-f97cc361d8ec"
      },
      "outputs": [
        {
          "data": {
            "image/png": "[encoded data removed]",
            "text/latex": [
              "$\\displaystyle 1$"
            ],
            "text/plain": [
              "1"
            ]
          },
          "execution_count": 17,
          "metadata": {},
          "output_type": "execute_result"
        }
      ],
      "source": [
        "limit(sin(x)/x,x,0)# x->0"
      ]
    },
    {
      "cell_type": "code",
      "execution_count": 18,
      "metadata": {
        "colab": {
          "base_uri": "https://localhost:8080/",
          "height": 47
        },
        "id": "CnquXQcXJlXl",
        "outputId": "76d12027-cc53-45a7-facc-fcf6b80abe72"
      },
      "outputs": [
        {
          "data": {
            "image/png": "[encoded data removed]",
            "text/latex": [
              "$\\displaystyle \\left[ - \\sqrt{2}, \\  \\sqrt{2}\\right]$"
            ],
            "text/plain": [
              "[-√2, √2]"
            ]
          },
          "execution_count": 18,
          "metadata": {},
          "output_type": "execute_result"
        }
      ],
      "source": [
        "solve(x**2-2,x)"
      ]
    },
    {
      "cell_type": "markdown",
      "metadata": {
        "id": "k3pNztJpd0FP"
      },
      "source": [
        "# 변수 정의하기 및 연산을 위한 기초\n",
        "sympy  인수분해 및 전개\n",
        "factor() 다항식 인수분해 \n",
        "expend( 다항식 곱 전개 "
      ]
    },
    {
      "cell_type": "code",
      "execution_count": null,
      "metadata": {
        "colab": {
          "base_uri": "https://localhost:8080/",
          "height": 39
        },
        "id": "dq00gp8JIwvA",
        "outputId": "3adc29eb-25b2-41a7-841a-ea5a9ac56165"
      },
      "outputs": [
        {
          "data": {
            "text/latex": [
              "$\\displaystyle x y \\left(x - y\\right)$"
            ],
            "text/plain": [
              "x*y*(x - y)"
            ]
          },
          "execution_count": 4,
          "metadata": {},
          "output_type": "execute_result"
        }
      ],
      "source": [
        "from sympy import symbols, factor, expand\n",
        "\n",
        "x,y = symbols('x,y')\n",
        "P = x**2*y-x*y**2\n",
        "F = factor(P)\n",
        "F"
      ]
    },
    {
      "cell_type": "code",
      "execution_count": null,
      "metadata": {
        "colab": {
          "base_uri": "https://localhost:8080/",
          "height": 39
        },
        "id": "cjxaf7qDebnX",
        "outputId": "d6fedebc-54e0-471f-acb3-8e020b387791"
      },
      "outputs": [
        {
          "data": {
            "text/latex": [
              "$\\displaystyle x^{2} y - x y^{2}$"
            ],
            "text/plain": [
              "x**2*y - x*y**2"
            ]
          },
          "execution_count": 5,
          "metadata": {},
          "output_type": "execute_result"
        }
      ],
      "source": [
        "expand(F)"
      ]
    },
    {
      "cell_type": "code",
      "execution_count": null,
      "metadata": {
        "colab": {
          "base_uri": "https://localhost:8080/",
          "height": 37
        },
        "id": "qn2pW2mheeq1",
        "outputId": "cc763d55-f74f-4526-8ac9-7cf8c54080e0"
      },
      "outputs": [
        {
          "data": {
            "text/latex": [
              "$\\displaystyle 9$"
            ],
            "text/plain": [
              "9"
            ]
          },
          "execution_count": 1,
          "metadata": {},
          "output_type": "execute_result"
        }
      ],
      "source": [
        "from sympy import symbols\n",
        "x,y = symbols('x, y')\n",
        "expr = (x+y)**2\n",
        "value = {x:1, y:2} \n",
        "expr.subs(value)"
      ]
    },
    {
      "cell_type": "code",
      "execution_count": null,
      "metadata": {
        "colab": {
          "base_uri": "https://localhost:8080/",
          "height": 39
        },
        "id": "sEySZZ1AixxW",
        "outputId": "34e4a60f-7578-486d-bf78-08c6ead75a70"
      },
      "outputs": [
        {
          "data": {
            "text/latex": [
              "$\\displaystyle y^{2} + 2 y \\left(1 - y\\right) + \\left(1 - y\\right)^{2}$"
            ],
            "text/plain": [
              "y**2 + 2*y*(1 - y) + (1 - y)**2"
            ]
          },
          "execution_count": 2,
          "metadata": {},
          "output_type": "execute_result"
        }
      ],
      "source": [
        "expr = x*x+x*y+x*y+y*y\n",
        "expr.subs({x:1-y})"
      ]
    },
    {
      "cell_type": "code",
      "execution_count": null,
      "metadata": {
        "colab": {
          "base_uri": "https://localhost:8080/",
          "height": 37
        },
        "id": "b26hqxoyG57S",
        "outputId": "ca3c2404-991e-4608-a5e7-808a00bc5300"
      },
      "outputs": [
        {
          "data": {
            "text/latex": [
              "$\\displaystyle 1$"
            ],
            "text/plain": [
              "1"
            ]
          },
          "execution_count": 3,
          "metadata": {},
          "output_type": "execute_result"
        }
      ],
      "source": [
        "from sympy import simplify\n",
        "expr = x*x+x*y+x*y+y*y\n",
        "exprsubs = expr.subs({x:1-y})\n",
        "simplify(exprsubs)"
      ]
    },
    {
      "cell_type": "code",
      "execution_count": null,
      "metadata": {
        "colab": {
          "base_uri": "https://localhost:8080/"
        },
        "id": "bdtwpPXdH5On",
        "outputId": "2eafc36c-6074-4bbf-cd4a-8c408b47ada3"
      },
      "outputs": [
        {
          "name": "stdout",
          "output_type": "stream",
          "text": [
            "enter expression: x**2+x\n"
          ]
        }
      ],
      "source": [
        "# string to symbols. \n",
        "from sympy import Symbol, sympify\n",
        "x = Symbol('x')\n",
        "expr = input('enter expression: ')"
      ]
    },
    {
      "cell_type": "code",
      "execution_count": null,
      "metadata": {
        "id": "i8fj-I4pKEF0"
      },
      "outputs": [],
      "source": [
        "from sympy.printing.pretty.pretty import SympifyError\n",
        "try:\n",
        "    expr_conversion = sympify(expr)\n",
        "except SympifyError:\n",
        "    print('Invalid input')"
      ]
    },
    {
      "cell_type": "code",
      "execution_count": null,
      "metadata": {
        "id": "nrS1DohbKTc1"
      },
      "outputs": [],
      "source": [
        "expr_value = expr_conversion.subs({'x':5})"
      ]
    },
    {
      "cell_type": "code",
      "execution_count": null,
      "metadata": {
        "colab": {
          "base_uri": "https://localhost:8080/"
        },
        "id": "MBfgXsmBKrmG",
        "outputId": "4332f7dd-7ba4-4baf-aa6a-20f0247c1d38"
      },
      "outputs": [
        {
          "name": "stdout",
          "output_type": "stream",
          "text": [
            "30\n"
          ]
        }
      ],
      "source": [
        "print(expr_value)"
      ]
    },
    {
      "cell_type": "code",
      "execution_count": null,
      "metadata": {
        "colab": {
          "base_uri": "https://localhost:8080/"
        },
        "id": "e4QP8wzyKtzo",
        "outputId": "9a7622f8-d2cd-4c0f-c608-da5e4614ce26"
      },
      "outputs": [
        {
          "name": "stdout",
          "output_type": "stream",
          "text": [
            "1.77245385090552\n",
            "2.51474667448457\n"
          ]
        }
      ],
      "source": [
        "from sympy import Symbol, sympify\n",
        "import math as m\n",
        "\n",
        "x = Symbol('x')\n",
        "\n",
        "expr1 = sympify('sin(x)+x**(1/2)')\n",
        "expr2 = sympify('exp(x)+sqrt(1-x**2)')\n",
        "\n",
        "result1 = expr1.subs({'x': m.pi})\n",
        "result2 = expr2.subs({'x': 1/2})\n",
        "\n",
        "print(result1, result2, sep='\\n')"
      ]
    },
    {
      "cell_type": "markdown",
      "metadata": {
        "id": "4k2AzQ9ELT0Q"
      },
      "source": [
        "함수의 방정식을 푸는데 활용하기 \n",
        "solve() 함수로 방정식의 해를 구하는데 사용하자 . \n",
        "f(x) = 0 의꼴로 정의하고 시작하자 . "
      ]
    },
    {
      "cell_type": "code",
      "execution_count": null,
      "metadata": {
        "colab": {
          "base_uri": "https://localhost:8080/"
        },
        "id": "oiP64BVrLHIw",
        "outputId": "bcd445ee-766c-4084-b4f7-9e5634dc0912"
      },
      "outputs": [
        {
          "name": "stdout",
          "output_type": "stream",
          "text": [
            "[2/3]\n"
          ]
        }
      ],
      "source": [
        "from sympy import Symbol, solve\n",
        "x = Symbol('x')\n",
        "f_x = 3*x -2 \n",
        "sol = solve(f_x)\n",
        "print(sol)"
      ]
    },
    {
      "cell_type": "markdown",
      "metadata": {
        "id": "Q-nCKJLw8HGr"
      },
      "source": [
        "$$\n",
        "\\begin{cases}\n",
        "2x +3y =6\\\\\n",
        "3x+2y =12 \n",
        "\\end{cases}\n",
        "$$"
      ]
    },
    {
      "cell_type": "code",
      "execution_count": 1,
      "metadata": {
        "colab": {
          "base_uri": "https://localhost:8080/"
        },
        "id": "gIXRsDy_8G6O",
        "outputId": "379a6a52-e3d4-49d3-b703-3670e1393b80"
      },
      "outputs": [
        {
          "name": "stdout",
          "output_type": "stream",
          "text": [
            "[{x: 24/5, y: -6/5}]\n"
          ]
        }
      ],
      "source": [
        "from sympy import Symbol, solve\n",
        "\n",
        "x = Symbol('x')\n",
        "y = Symbol('y')\n",
        "\n",
        "expr1 = 2*x+3*y-6\n",
        "expr2 = 3*x+2*y-12\n",
        "\n",
        "sol = solve((expr1,expr2),dict=True)\n",
        "# sol = solve((expr1,expr2),x,y,dict=True) \n",
        "print(sol)"
      ]
    },
    {
      "cell_type": "code",
      "execution_count": 2,
      "metadata": {
        "colab": {
          "base_uri": "https://localhost:8080/"
        },
        "id": "dTyok7X_K38r",
        "outputId": "ec0681f8-b5e0-4ffb-b1a1-147fdf59b551"
      },
      "outputs": [
        {
          "name": "stdout",
          "output_type": "stream",
          "text": [
            "0 0\n"
          ]
        }
      ],
      "source": [
        "sol = sol[0]\n",
        "eval1= expr1.subs({x:sol[x],y:sol[y]})\n",
        "eval2 = expr2.subs({x:sol[x],y:sol[y]})\n",
        "print(eval1,eval2)"
      ]
    },
    {
      "cell_type": "markdown",
      "metadata": {
        "id": "poRwd-e5y3C2"
      },
      "source": [
        "미분 방정식 풀이 \n",
        "\n",
        "$y''-y=e^t$"
      ]
    },
    {
      "cell_type": "code",
      "execution_count": 19,
      "metadata": {
        "colab": {
          "base_uri": "https://localhost:8080/",
          "height": 58
        },
        "id": "-R8Jzceiy23k",
        "outputId": "c10d0186-239d-47c9-e900-e49c227c402e"
      },
      "outputs": [
        {
          "data": {
            "image/png": "[encoded data removed]",
            "text/latex": [
              "$\\displaystyle y{\\left(t \\right)} = C_{2} e^{- t} + \\left(C_{1} + \\frac{t}{2}\\right) e^{t}$"
            ],
            "text/plain": [
              "           -t   ⎛     t⎞  t\n",
              "y(t) = C₂⋅ℯ   + ⎜C₁ + ─⎟⋅ℯ \n",
              "                ⎝     2⎠   "
            ]
          },
          "execution_count": 19,
          "metadata": {},
          "output_type": "execute_result"
        }
      ],
      "source": [
        "y = Function('y')\n",
        "dsolve(Eq(y(t).diff(t,t)-y(t),exp(t)),y(t))"
      ]
    },
    {
      "cell_type": "markdown",
      "metadata": {
        "id": "A9jHAw7A0UjN"
      },
      "source": [
        "고유값 구하기 $\\begin{bmatrix} 1&2\\\\ 2&2 \\end{bmatrix} $ ."
      ]
    },
    {
      "cell_type": "code",
      "execution_count": 20,
      "metadata": {
        "colab": {
          "base_uri": "https://localhost:8080/",
          "height": 68
        },
        "id": "D9X2VWP_y20R",
        "outputId": "75b1c949-a243-4e5b-e3fc-5575fa1031b5"
      },
      "outputs": [
        {
          "data": {
            "image/png": "[encoded data removed]",
            "text/latex": [
              "$\\displaystyle \\left\\{ \\frac{3}{2} - \\frac{\\sqrt{17}}{2} : 1, \\  \\frac{3}{2} + \\frac{\\sqrt{17}}{2} : 1\\right\\}$"
            ],
            "text/plain": [
              "⎧3   √17     3   √17   ⎫\n",
              "⎨─ - ───: 1, ─ + ───: 1⎬\n",
              "⎩2    2      2    2    ⎭"
            ]
          },
          "execution_count": 20,
          "metadata": {},
          "output_type": "execute_result"
        }
      ],
      "source": [
        "Matrix([[1,2],[2,2]]).eigenvals()"
      ]
    },
    {
      "cell_type": "markdown",
      "metadata": {
        "id": "pVMAntVL1iSS"
      },
      "source": [
        "bessel function $J_v(z)$ in term of the spherical Bessel function $j_v(z)$."
      ]
    },
    {
      "cell_type": "code",
      "execution_count": 21,
      "metadata": {
        "colab": {
          "base_uri": "https://localhost:8080/",
          "height": 63
        },
        "id": "uWMSJoyn1iEi",
        "outputId": "cc3d3750-3295-4c5b-9eb9-e870511b97ec"
      },
      "outputs": [
        {
          "data": {
            "image/png": "[encoded data removed]",
            "text/latex": [
              "$\\displaystyle \\frac{\\sqrt{2} \\sqrt{z} j_{\\nu - \\frac{1}{2}}\\left(z\\right)}{\\sqrt{\\pi}}$"
            ],
            "text/plain": [
              "√2⋅√z⋅jn(ν - 1/2, z)\n",
              "────────────────────\n",
              "         √π         "
            ]
          },
          "execution_count": 21,
          "metadata": {},
          "output_type": "execute_result"
        }
      ],
      "source": [
        "besselj(nu, z).rewrite(jn)"
      ]
    },
    {
      "cell_type": "markdown",
      "metadata": {
        "id": "QmSyyEqR2UPD"
      },
      "source": [
        "보고서용으로 latex 수식을 전체를 쓰기 싫다면 아래 처럼 앞에 latex으로 하면 그 latex식으로 출려되어 붙여넣으면된다."
      ]
    },
    {
      "cell_type": "code",
      "execution_count": 23,
      "metadata": {
        "colab": {
          "base_uri": "https://localhost:8080/",
          "height": 35
        },
        "id": "sPfNumRby2tb",
        "outputId": "6731b251-0e18-40b8-ee8a-784f83239cee"
      },
      "outputs": [
        {
          "data": {
            "application/vnd.google.colaboratory.intrinsic+json": {
              "type": "string"
            },
            "text/plain": [
              "'\\\\int\\\\limits_{0}^{\\\\pi} \\\\cos^{2}{\\\\left(x \\\\right)}\\\\, dx'"
            ]
          },
          "execution_count": 23,
          "metadata": {},
          "output_type": "execute_result"
        }
      ],
      "source": [
        "latex(Integral(cos(x)**2, (x,0,pi)))"
      ]
    },
    {
      "cell_type": "markdown",
      "metadata": {
        "id": "eFV7GlXs2g60"
      },
      "source": [
        "$\\int\\limits_{0}^{\\pi} \\cos^{2}{\\left(x \\right)}\\, dx$"
      ]
    },
    {
      "cell_type": "markdown",
      "metadata": {
        "id": "94sjSPcuy0vo"
      },
      "source": [
        "수식 코드로 "
      ]
    },
    {
      "cell_type": "markdown",
      "metadata": {
        "id": "FUYIkasJ5LUS"
      },
      "source": [
        "# 경제수학을 위한 sympy \n"
      ]
    },
    {
      "cell_type": "code",
      "execution_count": 24,
      "metadata": {
        "id": "7BMV2mmX5K3f"
      },
      "outputs": [],
      "source": [
        "from sympy import *"
      ]
    },
    {
      "cell_type": "code",
      "execution_count": 26,
      "metadata": {
        "colab": {
          "base_uri": "https://localhost:8080/",
          "height": 39
        },
        "id": "dk5L9bi45K01",
        "outputId": "e3c702bd-904e-4aa0-89df-a48a42b5ae5b"
      },
      "outputs": [
        {
          "data": {
            "image/png": "[encoded data removed]",
            "text/latex": [
              "$\\displaystyle x + 1$"
            ],
            "text/plain": [
              "x + 1"
            ]
          },
          "execution_count": 26,
          "metadata": {},
          "output_type": "execute_result"
        }
      ],
      "source": [
        "x = symbols('x')\n",
        "x+1"
      ]
    },
    {
      "cell_type": "code",
      "execution_count": 27,
      "metadata": {
        "colab": {
          "base_uri": "https://localhost:8080/",
          "height": 39
        },
        "id": "_aPmRf-A5Kx4",
        "outputId": "b7557403-e1b0-4738-b8d2-dd06a1ddb9bf"
      },
      "outputs": [
        {
          "data": {
            "image/png": "[encoded data removed]",
            "text/latex": [
              "$\\displaystyle x$"
            ],
            "text/plain": [
              "x"
            ]
          },
          "execution_count": 27,
          "metadata": {},
          "output_type": "execute_result"
        }
      ],
      "source": [
        "x,y,z=symbols('x y z')\n",
        "x"
      ]
    },
    {
      "cell_type": "code",
      "execution_count": 28,
      "metadata": {
        "colab": {
          "base_uri": "https://localhost:8080/",
          "height": 39
        },
        "id": "WAsXEs1-5Kun",
        "outputId": "5b3cae2a-6c29-40de-bb2a-1443e6c00f95"
      },
      "outputs": [
        {
          "data": {
            "image/png": "[encoded data removed]",
            "text/latex": [
              "$\\displaystyle unrelated + 1$"
            ],
            "text/plain": [
              "unrelated + 1"
            ]
          },
          "execution_count": 28,
          "metadata": {},
          "output_type": "execute_result"
        }
      ],
      "source": [
        "crazy = symbols('unrelated')\n",
        "crazy +1"
      ]
    },
    {
      "cell_type": "code",
      "execution_count": 29,
      "metadata": {
        "colab": {
          "base_uri": "https://localhost:8080/",
          "height": 37
        },
        "id": "afQKnJNz5KZS",
        "outputId": "6479cea8-7497-4531-a086-7d19402ea4ea"
      },
      "outputs": [
        {
          "data": {
            "image/png": "[encoded data removed]",
            "text/latex": [
              "$\\displaystyle 0$"
            ],
            "text/plain": [
              "0"
            ]
          },
          "execution_count": 29,
          "metadata": {},
          "output_type": "execute_result"
        }
      ],
      "source": [
        "a = (x +1)**2\n",
        "b = x**2 + 2*x +1\n",
        "simplify(a-b)"
      ]
    },
    {
      "cell_type": "code",
      "execution_count": 30,
      "metadata": {
        "colab": {
          "base_uri": "https://localhost:8080/",
          "height": 39
        },
        "id": "n6XS6Y80JlCl",
        "outputId": "296a10ce-1a2e-4ed9-e3bc-50d301315a48"
      },
      "outputs": [
        {
          "data": {
            "image/png": "[encoded data removed]",
            "text/latex": [
              "$\\displaystyle 4 x$"
            ],
            "text/plain": [
              "4⋅x"
            ]
          },
          "execution_count": 30,
          "metadata": {},
          "output_type": "execute_result"
        }
      ],
      "source": [
        "c = x**2 -2*x +1\n",
        "simplify(a-c)"
      ]
    },
    {
      "cell_type": "code",
      "execution_count": null,
      "metadata": {
        "id": "U3vI9fsoJlAD"
      },
      "outputs": [],
      "source": []
    },
    {
      "cell_type": "code",
      "execution_count": null,
      "metadata": {
        "id": "LIpfDvSSJk9g"
      },
      "outputs": [],
      "source": []
    },
    {
      "cell_type": "code",
      "execution_count": null,
      "metadata": {
        "id": "POeOvhZIJk65"
      },
      "outputs": [],
      "source": []
    },
    {
      "cell_type": "code",
      "execution_count": null,
      "metadata": {
        "id": "N_WuwSTZJkrd"
      },
      "outputs": [],
      "source": []
    },
    {
      "cell_type": "markdown",
      "metadata": {
        "id": "w8tbqMn83VC0"
      },
      "source": [
        "# sympy를 활용한 그래프 작성 및 해석적 그래프 작성 "
      ]
    },
    {
      "cell_type": "code",
      "execution_count": 3,
      "metadata": {
        "colab": {
          "base_uri": "https://localhost:8080/",
          "height": 315
        },
        "id": "KXcZMIhoAVXP",
        "outputId": "439d3a36-6f97-4ce9-94b3-22a532f58675"
      },
      "outputs": [
        {
          "data": {
            "image/png": "[encoded data removed]",
            "text/plain": [
              "<Figure size 432x288 with 1 Axes>"
            ]
          },
          "metadata": {
            "needs_background": "light"
          },
          "output_type": "display_data"
        },
        {
          "data": {
            "text/plain": [
              "<sympy.plotting.plot.Plot at 0x7fa6b4320eb0>"
            ]
          },
          "execution_count": 3,
          "metadata": {},
          "output_type": "execute_result"
        }
      ],
      "source": [
        "from sympy.plotting import plot\n",
        "from sympy import Symbol\n",
        "\n",
        "x = Symbol('x')\n",
        "expr = 2*x+3\n",
        "\n",
        "plot(expr)"
      ]
    },
    {
      "cell_type": "code",
      "execution_count": 4,
      "metadata": {
        "colab": {
          "base_uri": "https://localhost:8080/",
          "height": 594
        },
        "id": "7Ndotv7UAhL0",
        "outputId": "d9f87bd8-27ae-487f-f013-5942b253c895"
      },
      "outputs": [
        {
          "data": {
            "image/png": "[encoded data removed]",
            "text/plain": [
              "<Figure size 432x288 with 1 Axes>"
            ]
          },
          "metadata": {
            "needs_background": "light"
          },
          "output_type": "display_data"
        },
        {
          "data": {
            "image/png": "[encoded data removed]",
            "text/plain": [
              "<Figure size 432x288 with 1 Axes>"
            ]
          },
          "metadata": {
            "needs_background": "light"
          },
          "output_type": "display_data"
        },
        {
          "data": {
            "text/plain": [
              "<sympy.plotting.plot.Plot at 0x7fa6b1a3a0d0>"
            ]
          },
          "execution_count": 4,
          "metadata": {},
          "output_type": "execute_result"
        }
      ],
      "source": [
        "from sympy.plotting import plot\n",
        "from sympy import Symbol, sympify\n",
        "\n",
        "sinx = sympify('sin(x)') \n",
        "half_circle = sympify('sqrt(1-x**2)')    \n",
        "# half_circle = sympify('(1-x**2)**(1/2)')\n",
        "\n",
        "x = Symbol('x') \n",
        "\n",
        "plot(sinx)\n",
        "plot(half_circle, (x, -1, 1))"
      ]
    },
    {
      "cell_type": "code",
      "execution_count": null,
      "metadata": {},
      "outputs": [],
      "source": []
    },
    {
      "attachments": {},
      "cell_type": "markdown",
      "metadata": {},
      "source": [
        "https://docs.sympy.org/latest/tutorials/intro-tutorial/matrices.html\n",
        "참고 바람\n",
        "https://docs.sympy.org/latest/modules/plotting.html\n"
      ]
    },
    {
      "cell_type": "code",
      "execution_count": null,
      "metadata": {
        "id": "4tC51456Aqtn"
      },
      "outputs": [],
      "source": []
    },
    {
      "attachments": {},
      "cell_type": "markdown",
      "metadata": {},
      "source": [
        "# 다시  시작하는 미분\n",
        "---\n",
        "1. 함수\n",
        " - 지수함수와 로그함수 , 삼각함수 역삼각함수 , 쌍곡선 함수 & 역쌍곡선함수 \n",
        "2. 극한과 연속\n",
        " - 수열의 극한, 함수의 극한, 함수의 연속\n",
        "3. 미분법\n",
        " - 미분계수와 도함수, 여러가지 함수의 미분법, 기하학적의미,n계 도함수, 미분가능성\n",
        "4. 극한 \n",
        " - 로피탈의 정리, 무리수 $e$의 정의\n",
        "5. Taylor 급수 \n",
        " - Taylor 급수 ,maclaurin 급수, 근삿값과 오차\n",
        "6. 미분 응용\n",
        " - 함수의 극대 극소, 최적화 문제, 변화율 \n",
        "\n",
        "\n"
      ]
    },
    {
      "attachments": {},
      "cell_type": "markdown",
      "metadata": {},
      "source": [
        "## 지수함수와 로그함수 \n"
      ]
    },
    {
      "cell_type": "markdown",
      "metadata": {},
      "source": []
    }
  ],
  "metadata": {
    "colab": {
      "provenance": []
    },
    "kernelspec": {
      "display_name": "Python 3",
      "name": "python3"
    },
    "language_info": {
      "name": "python"
    }
  },
  "nbformat": 4,
  "nbformat_minor": 0
}
